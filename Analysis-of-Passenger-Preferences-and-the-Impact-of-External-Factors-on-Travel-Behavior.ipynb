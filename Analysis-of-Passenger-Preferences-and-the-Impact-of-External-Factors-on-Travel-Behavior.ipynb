{
 "cells": [
  {
   "cell_type": "markdown",
   "metadata": {},
   "source": [
    "<span style=\"font-size: 28px; font-weight: bold;\">Analysis of Passenger Preferences and the Impact of External Factors on Travel Behavior</span>"
   ]
  },
  {
   "cell_type": "markdown",
   "metadata": {},
   "source": [
    "<span id='contents' style=\"font-size: 22px; font-weight: bold;\">Contents</span>"
   ]
  },
  {
   "cell_type": "markdown",
   "metadata": {},
   "source": [
    "1. [Initialization](#Initialization)\n",
    "   - [Extract HTML Data](#Extract-HTML-Data)\n",
    "   - [Database](#Database)\n",
    "       - [Companies](#Companies)\n",
    "       - [Locations](#Locations)\n",
    "       - [Airport Trips](#Airport-Trips)\n",
    "   \n",
    "\n",
    "2. [Data Preparation](#Data-Preparation)\n",
    "   - [`weather_records` Table](#weather_records-Table)\n",
    "   - [`airport_trips` Table](#airport_trips-Table)\n",
    "   - [`trip_records` Segmentation](#trip_records-Segmentation)\n",
    "       \n",
    "       \n",
    "3. [Analysis](#Analysis)\n",
    "   - [Popular Destinations](#Popular-Destinations)\n",
    "   - [Popular Companies](#Popular-Companies)\n",
    "    \n",
    "       \n",
    "4. [Hypothesis Testing](#Hypothesis-Testing)\n",
    "   - [Test of Normality](#Test-of-Normality)\n",
    "   - [Test of Variance Homogenity](#Test-of-Variance-Homogenity)\n",
    "   - [Significance of Difference](#Significance-of-Difference)\n",
    "\n",
    "\n",
    "6. [Findings and Conclusions](#Findings-and-Conclusions)\n"
   ]
  },
  {
   "cell_type": "markdown",
   "metadata": {},
   "source": [
    "# Background"
   ]
  },
  {
   "cell_type": "markdown",
   "metadata": {},
   "source": [
    "Zuber, a newly launched ride-sharing company in Chicago, seeks to investigate passenger preferences and the influence of external factors on travel behavior. This analysis aims to uncover patterns that inform how various conditions affect ridership trends.\n",
    "\n",
    "The original dataset comprises multiple tables containing information on taxi trips in Chicago, covering aspects such as service areas, taxi providers, trip records, and weather conditions. Additional data on weather patterns was obtained through web scraping to enrich the analysis.\n",
    "\n",
    "Several related datasets have been integrated to enhance the analysis, including company names and trip records from November 15–16, 2017, as well as the final trip destinations and the average number of trips completed across all providers during November 2017.\n",
    "\n",
    "The primary objective of this analysis is to assess the impact of weather conditions (particularly rain) on trip duration. This report is organized into five sections: Initialization, Data Preparation, Data Analysis, Hypothesis Testing, and Findings and Conclusions."
   ]
  },
  {
   "cell_type": "markdown",
   "metadata": {},
   "source": [
    "## Initialization"
   ]
  },
  {
   "cell_type": "code",
   "execution_count": 1,
   "metadata": {},
   "outputs": [],
   "source": [
    "# Import HTTP request\n",
    "import requests\n",
    "\n",
    "# Import BeautifulSoup from modul bs4\n",
    "from bs4 import BeautifulSoup\n",
    "\n",
    "# Import Library data processing\n",
    "import pandas as pd, numpy as np\n",
    "\n",
    "#Import Library data visualization\n",
    "import matplotlib.pyplot as plt, seaborn as sns\n",
    "\n",
    "#Import Library Statistics\n",
    "from scipy.stats import ttest_ind\n",
    "import scipy.stats as stats\n",
    "\n",
    "#Import Library Statistical Testing\n",
    "from scipy.stats import ttest_1samp, shapiro, mannwhitneyu, chi2_contingency\n",
    "\n",
    "import warnings\n",
    "warnings.filterwarnings('ignore')"
   ]
  },
  {
   "cell_type": "markdown",
   "metadata": {},
   "source": [
    "### Extract HTML Data"
   ]
  },
  {
   "cell_type": "markdown",
   "metadata": {},
   "source": [
    "Sebuah situs web memiliki rekam cuaca negara bagian Chicago pada bulan november 2017. Dari situs web tersebut, diperlukan penguraian data untuk kemudian ditampilkan dalam bentuk dataframe. Rekam cuaca tersimpan dalam tabel dengan atribut 'weather_records' dan akan disimpan sebagai dataframe dengan nama yang sama. "
   ]
  },
  {
   "cell_type": "code",
   "execution_count": 2,
   "metadata": {
    "scrolled": true
   },
   "outputs": [],
   "source": [
    "# extract data of HTML table from URL\n",
    "URL = 'https://practicum-content.s3.us-west-1.amazonaws.com/data-analyst-eng/moved_chicago_weather_2017.html'\n",
    "req = requests.get(URL)\n",
    "soup = BeautifulSoup(req.text, 'lxml')"
   ]
  },
  {
   "cell_type": "code",
   "execution_count": 3,
   "metadata": {},
   "outputs": [],
   "source": [
    "# identify \"weather_records\" attributes\n",
    "table = soup.find('table', attrs={\"id\": \"weather_records\"})\n",
    "heading_table = []\n",
    "for row in table.find_all('th'):\n",
    "    heading_table.append(row.text)\n",
    "content=[]\n",
    "for row in table.find_all('tr'):\n",
    "    if not row.find_all('th'):\n",
    "        content.append([element.text for element in row.find_all('td')])"
   ]
  },
  {
   "cell_type": "code",
   "execution_count": 4,
   "metadata": {
    "scrolled": true
   },
   "outputs": [
    {
     "data": {
      "text/html": [
       "<div>\n",
       "<style scoped>\n",
       "    .dataframe tbody tr th:only-of-type {\n",
       "        vertical-align: middle;\n",
       "    }\n",
       "\n",
       "    .dataframe tbody tr th {\n",
       "        vertical-align: top;\n",
       "    }\n",
       "\n",
       "    .dataframe thead th {\n",
       "        text-align: right;\n",
       "    }\n",
       "</style>\n",
       "<table border=\"1\" class=\"dataframe\">\n",
       "  <thead>\n",
       "    <tr style=\"text-align: right;\">\n",
       "      <th></th>\n",
       "      <th>Date and time</th>\n",
       "      <th>Temperature</th>\n",
       "      <th>Description</th>\n",
       "    </tr>\n",
       "  </thead>\n",
       "  <tbody>\n",
       "    <tr>\n",
       "      <th>0</th>\n",
       "      <td>2017-11-01 00:00:00</td>\n",
       "      <td>276.150</td>\n",
       "      <td>broken clouds</td>\n",
       "    </tr>\n",
       "    <tr>\n",
       "      <th>1</th>\n",
       "      <td>2017-11-01 01:00:00</td>\n",
       "      <td>275.700</td>\n",
       "      <td>scattered clouds</td>\n",
       "    </tr>\n",
       "    <tr>\n",
       "      <th>2</th>\n",
       "      <td>2017-11-01 02:00:00</td>\n",
       "      <td>275.610</td>\n",
       "      <td>overcast clouds</td>\n",
       "    </tr>\n",
       "    <tr>\n",
       "      <th>3</th>\n",
       "      <td>2017-11-01 03:00:00</td>\n",
       "      <td>275.350</td>\n",
       "      <td>broken clouds</td>\n",
       "    </tr>\n",
       "    <tr>\n",
       "      <th>4</th>\n",
       "      <td>2017-11-01 04:00:00</td>\n",
       "      <td>275.240</td>\n",
       "      <td>broken clouds</td>\n",
       "    </tr>\n",
       "    <tr>\n",
       "      <th>5</th>\n",
       "      <td>2017-11-01 05:00:00</td>\n",
       "      <td>275.050</td>\n",
       "      <td>overcast clouds</td>\n",
       "    </tr>\n",
       "    <tr>\n",
       "      <th>6</th>\n",
       "      <td>2017-11-01 06:00:00</td>\n",
       "      <td>275.140</td>\n",
       "      <td>overcast clouds</td>\n",
       "    </tr>\n",
       "    <tr>\n",
       "      <th>7</th>\n",
       "      <td>2017-11-01 07:00:00</td>\n",
       "      <td>275.230</td>\n",
       "      <td>overcast clouds</td>\n",
       "    </tr>\n",
       "    <tr>\n",
       "      <th>8</th>\n",
       "      <td>2017-11-01 08:00:00</td>\n",
       "      <td>275.230</td>\n",
       "      <td>overcast clouds</td>\n",
       "    </tr>\n",
       "    <tr>\n",
       "      <th>9</th>\n",
       "      <td>2017-11-01 09:00:00</td>\n",
       "      <td>275.320</td>\n",
       "      <td>overcast clouds</td>\n",
       "    </tr>\n",
       "  </tbody>\n",
       "</table>\n",
       "</div>"
      ],
      "text/plain": [
       "         Date and time Temperature       Description\n",
       "0  2017-11-01 00:00:00     276.150     broken clouds\n",
       "1  2017-11-01 01:00:00     275.700  scattered clouds\n",
       "2  2017-11-01 02:00:00     275.610   overcast clouds\n",
       "3  2017-11-01 03:00:00     275.350     broken clouds\n",
       "4  2017-11-01 04:00:00     275.240     broken clouds\n",
       "5  2017-11-01 05:00:00     275.050   overcast clouds\n",
       "6  2017-11-01 06:00:00     275.140   overcast clouds\n",
       "7  2017-11-01 07:00:00     275.230   overcast clouds\n",
       "8  2017-11-01 08:00:00     275.230   overcast clouds\n",
       "9  2017-11-01 09:00:00     275.320   overcast clouds"
      ]
     },
     "execution_count": 4,
     "metadata": {},
     "output_type": "execute_result"
    }
   ],
   "source": [
    "# display 'weather_records' as dataframe\n",
    "weather_records = pd.DataFrame(content, columns = heading_table)\n",
    "weather_records.head(10)"
   ]
  },
  {
   "cell_type": "code",
   "execution_count": 5,
   "metadata": {},
   "outputs": [
    {
     "name": "stdout",
     "output_type": "stream",
     "text": [
      "<class 'pandas.core.frame.DataFrame'>\n",
      "RangeIndex: 697 entries, 0 to 696\n",
      "Data columns (total 3 columns):\n",
      " #   Column         Non-Null Count  Dtype \n",
      "---  ------         --------------  ----- \n",
      " 0   Date and time  697 non-null    object\n",
      " 1   Temperature    697 non-null    object\n",
      " 2   Description    697 non-null    object\n",
      "dtypes: object(3)\n",
      "memory usage: 16.5+ KB\n"
     ]
    }
   ],
   "source": [
    "# general info of weather_records\n",
    "weather_records.info()"
   ]
  },
  {
   "cell_type": "code",
   "execution_count": 6,
   "metadata": {},
   "outputs": [
    {
     "name": "stdout",
     "output_type": "stream",
     "text": [
      "Duplicates in weather_records:  0\n"
     ]
    }
   ],
   "source": [
    "# check duplicates in dataframe\n",
    "print('Duplicates in weather_records: ', weather_records.duplicated().sum())"
   ]
  },
  {
   "cell_type": "markdown",
   "metadata": {},
   "source": [
    "The dataframe, `weather_records`, comprises 697 rows and three columns:    \n",
    "- `Date and time`, containing the date and time of the weather data recording,    \n",
    "- `Temperature`, recording the temperature in Fahrenheit at the time of data collection, and    \n",
    "- `Description`, providing a description of the cloud conditions observed. This dataframe is clean, with no duplicates or missing values.\n",
    "\n",
    "However, several adjustments are necessary:\n",
    "1. **Data Types for ‘Date and Time’ and ‘Temperature’ Columns**: Currently, both columns are of the object data type. Correcting these data types will be addressed in the Data Preparation stage.\n",
    "2. **Column Naming Conventions**: The column names are inconsistently formatted, with mixed capitalization and spaces between words rather than underscores. Standardizing the formatting and spacing of column names will also be completed in the Data Preparation stage."
   ]
  },
  {
   "cell_type": "markdown",
   "metadata": {},
   "source": [
    "### Database"
   ]
  },
  {
   "cell_type": "markdown",
   "metadata": {},
   "source": [
    "Several tables contain data previously extracted from the database. These tables are `companies`, `locations`, and `airport_trips`."
   ]
  },
  {
   "cell_type": "markdown",
   "metadata": {},
   "source": [
    "#### Companies"
   ]
  },
  {
   "cell_type": "code",
   "execution_count": 7,
   "metadata": {},
   "outputs": [
    {
     "data": {
      "text/html": [
       "<div>\n",
       "<style scoped>\n",
       "    .dataframe tbody tr th:only-of-type {\n",
       "        vertical-align: middle;\n",
       "    }\n",
       "\n",
       "    .dataframe tbody tr th {\n",
       "        vertical-align: top;\n",
       "    }\n",
       "\n",
       "    .dataframe thead th {\n",
       "        text-align: right;\n",
       "    }\n",
       "</style>\n",
       "<table border=\"1\" class=\"dataframe\">\n",
       "  <thead>\n",
       "    <tr style=\"text-align: right;\">\n",
       "      <th></th>\n",
       "      <th>company_name</th>\n",
       "      <th>trips_amount</th>\n",
       "    </tr>\n",
       "  </thead>\n",
       "  <tbody>\n",
       "    <tr>\n",
       "      <th>0</th>\n",
       "      <td>Flash Cab</td>\n",
       "      <td>19558</td>\n",
       "    </tr>\n",
       "    <tr>\n",
       "      <th>1</th>\n",
       "      <td>Taxi Affiliation Services</td>\n",
       "      <td>11422</td>\n",
       "    </tr>\n",
       "    <tr>\n",
       "      <th>2</th>\n",
       "      <td>Medallion Leasing</td>\n",
       "      <td>10367</td>\n",
       "    </tr>\n",
       "    <tr>\n",
       "      <th>3</th>\n",
       "      <td>Yellow Cab</td>\n",
       "      <td>9888</td>\n",
       "    </tr>\n",
       "    <tr>\n",
       "      <th>4</th>\n",
       "      <td>Taxi Affiliation Service Yellow</td>\n",
       "      <td>9299</td>\n",
       "    </tr>\n",
       "    <tr>\n",
       "      <th>5</th>\n",
       "      <td>Chicago Carriage Cab Corp</td>\n",
       "      <td>9181</td>\n",
       "    </tr>\n",
       "    <tr>\n",
       "      <th>6</th>\n",
       "      <td>City Service</td>\n",
       "      <td>8448</td>\n",
       "    </tr>\n",
       "    <tr>\n",
       "      <th>7</th>\n",
       "      <td>Sun Taxi</td>\n",
       "      <td>7701</td>\n",
       "    </tr>\n",
       "    <tr>\n",
       "      <th>8</th>\n",
       "      <td>Star North Management LLC</td>\n",
       "      <td>7455</td>\n",
       "    </tr>\n",
       "    <tr>\n",
       "      <th>9</th>\n",
       "      <td>Blue Ribbon Taxi Association Inc.</td>\n",
       "      <td>5953</td>\n",
       "    </tr>\n",
       "  </tbody>\n",
       "</table>\n",
       "</div>"
      ],
      "text/plain": [
       "                        company_name  trips_amount\n",
       "0                          Flash Cab         19558\n",
       "1          Taxi Affiliation Services         11422\n",
       "2                  Medallion Leasing         10367\n",
       "3                         Yellow Cab          9888\n",
       "4    Taxi Affiliation Service Yellow          9299\n",
       "5          Chicago Carriage Cab Corp          9181\n",
       "6                       City Service          8448\n",
       "7                           Sun Taxi          7701\n",
       "8          Star North Management LLC          7455\n",
       "9  Blue Ribbon Taxi Association Inc.          5953"
      ]
     },
     "execution_count": 7,
     "metadata": {},
     "output_type": "execute_result"
    }
   ],
   "source": [
    "# display companies dataset\n",
    "companies = pd.read_csv('/datasets/project_sql_result_01.csv')\n",
    "companies.head(10)"
   ]
  },
  {
   "cell_type": "markdown",
   "metadata": {},
   "source": [
    "The `companies` table provides information on taxi service providers, listing the company names (in the `company_name` column) and the number of completed trips between November 15 and 16, 2017 (in the `trips_amount` column). \n",
    "\n",
    "Below is a summary of the companies table:"
   ]
  },
  {
   "cell_type": "code",
   "execution_count": 8,
   "metadata": {},
   "outputs": [
    {
     "name": "stdout",
     "output_type": "stream",
     "text": [
      "<class 'pandas.core.frame.DataFrame'>\n",
      "RangeIndex: 64 entries, 0 to 63\n",
      "Data columns (total 2 columns):\n",
      " #   Column        Non-Null Count  Dtype \n",
      "---  ------        --------------  ----- \n",
      " 0   company_name  64 non-null     object\n",
      " 1   trips_amount  64 non-null     int64 \n",
      "dtypes: int64(1), object(1)\n",
      "memory usage: 1.1+ KB\n"
     ]
    }
   ],
   "source": [
    "companies.info()"
   ]
  },
  {
   "cell_type": "code",
   "execution_count": 9,
   "metadata": {
    "scrolled": true
   },
   "outputs": [
    {
     "name": "stdout",
     "output_type": "stream",
     "text": [
      "Duplicates in companies:  0\n"
     ]
    }
   ],
   "source": [
    "# check duplicates\n",
    "print('Duplicates in companies: ', companies.duplicated().sum())"
   ]
  },
  {
   "cell_type": "markdown",
   "metadata": {},
   "source": [
    "The `companies` table contains a total of 64 entries, with no duplicate rows. There are no missing values in either the `company_name` or `trips_amount` columns. The data types are also appropriate, with `company_name` as an object and `trips_amount` as an integer."
   ]
  },
  {
   "cell_type": "markdown",
   "metadata": {},
   "source": [
    "#### Locations"
   ]
  },
  {
   "cell_type": "code",
   "execution_count": 10,
   "metadata": {},
   "outputs": [
    {
     "data": {
      "text/html": [
       "<div>\n",
       "<style scoped>\n",
       "    .dataframe tbody tr th:only-of-type {\n",
       "        vertical-align: middle;\n",
       "    }\n",
       "\n",
       "    .dataframe tbody tr th {\n",
       "        vertical-align: top;\n",
       "    }\n",
       "\n",
       "    .dataframe thead th {\n",
       "        text-align: right;\n",
       "    }\n",
       "</style>\n",
       "<table border=\"1\" class=\"dataframe\">\n",
       "  <thead>\n",
       "    <tr style=\"text-align: right;\">\n",
       "      <th></th>\n",
       "      <th>dropoff_location_name</th>\n",
       "      <th>average_trips</th>\n",
       "    </tr>\n",
       "  </thead>\n",
       "  <tbody>\n",
       "    <tr>\n",
       "      <th>0</th>\n",
       "      <td>Loop</td>\n",
       "      <td>10727.466667</td>\n",
       "    </tr>\n",
       "    <tr>\n",
       "      <th>1</th>\n",
       "      <td>River North</td>\n",
       "      <td>9523.666667</td>\n",
       "    </tr>\n",
       "    <tr>\n",
       "      <th>2</th>\n",
       "      <td>Streeterville</td>\n",
       "      <td>6664.666667</td>\n",
       "    </tr>\n",
       "    <tr>\n",
       "      <th>3</th>\n",
       "      <td>West Loop</td>\n",
       "      <td>5163.666667</td>\n",
       "    </tr>\n",
       "    <tr>\n",
       "      <th>4</th>\n",
       "      <td>O'Hare</td>\n",
       "      <td>2546.900000</td>\n",
       "    </tr>\n",
       "    <tr>\n",
       "      <th>5</th>\n",
       "      <td>Lake View</td>\n",
       "      <td>2420.966667</td>\n",
       "    </tr>\n",
       "    <tr>\n",
       "      <th>6</th>\n",
       "      <td>Grant Park</td>\n",
       "      <td>2068.533333</td>\n",
       "    </tr>\n",
       "    <tr>\n",
       "      <th>7</th>\n",
       "      <td>Museum Campus</td>\n",
       "      <td>1510.000000</td>\n",
       "    </tr>\n",
       "    <tr>\n",
       "      <th>8</th>\n",
       "      <td>Gold Coast</td>\n",
       "      <td>1364.233333</td>\n",
       "    </tr>\n",
       "    <tr>\n",
       "      <th>9</th>\n",
       "      <td>Sheffield &amp; DePaul</td>\n",
       "      <td>1259.766667</td>\n",
       "    </tr>\n",
       "  </tbody>\n",
       "</table>\n",
       "</div>"
      ],
      "text/plain": [
       "  dropoff_location_name  average_trips\n",
       "0                  Loop   10727.466667\n",
       "1           River North    9523.666667\n",
       "2         Streeterville    6664.666667\n",
       "3             West Loop    5163.666667\n",
       "4                O'Hare    2546.900000\n",
       "5             Lake View    2420.966667\n",
       "6            Grant Park    2068.533333\n",
       "7         Museum Campus    1510.000000\n",
       "8            Gold Coast    1364.233333\n",
       "9    Sheffield & DePaul    1259.766667"
      ]
     },
     "execution_count": 10,
     "metadata": {},
     "output_type": "execute_result"
    }
   ],
   "source": [
    "# display locations dataset\n",
    "locations = pd.read_csv('/datasets/project_sql_result_04.csv')\n",
    "locations.head(10)"
   ]
  },
  {
   "cell_type": "markdown",
   "metadata": {},
   "source": [
    "The `locations` table contains information on the names of areas where passengers were dropped off at the end of their trips (in the `dropoff_location_name` column) and the average number of trips completed throughout November 2017 (in the `average_trips` column). \n",
    "\n",
    "Below is a general summary:"
   ]
  },
  {
   "cell_type": "code",
   "execution_count": 11,
   "metadata": {},
   "outputs": [
    {
     "name": "stdout",
     "output_type": "stream",
     "text": [
      "<class 'pandas.core.frame.DataFrame'>\n",
      "RangeIndex: 94 entries, 0 to 93\n",
      "Data columns (total 2 columns):\n",
      " #   Column                 Non-Null Count  Dtype  \n",
      "---  ------                 --------------  -----  \n",
      " 0   dropoff_location_name  94 non-null     object \n",
      " 1   average_trips          94 non-null     float64\n",
      "dtypes: float64(1), object(1)\n",
      "memory usage: 1.6+ KB\n"
     ]
    }
   ],
   "source": [
    "locations.info()"
   ]
  },
  {
   "cell_type": "code",
   "execution_count": 12,
   "metadata": {},
   "outputs": [
    {
     "name": "stdout",
     "output_type": "stream",
     "text": [
      "Duplicates in locations:  0\n"
     ]
    }
   ],
   "source": [
    "# check duplicates\n",
    "print('Duplicates in locations: ', locations.duplicated().sum())"
   ]
  },
  {
   "cell_type": "markdown",
   "metadata": {},
   "source": [
    "The `locations` table consists of 94 entries with no duplicate rows or missing values in either column. The data types are appropriately set, with `dropoff_location_name` as an object and `average_trips` as a float."
   ]
  },
  {
   "cell_type": "markdown",
   "metadata": {},
   "source": [
    "#### Airport Trips"
   ]
  },
  {
   "cell_type": "code",
   "execution_count": 13,
   "metadata": {},
   "outputs": [
    {
     "data": {
      "text/html": [
       "<div>\n",
       "<style scoped>\n",
       "    .dataframe tbody tr th:only-of-type {\n",
       "        vertical-align: middle;\n",
       "    }\n",
       "\n",
       "    .dataframe tbody tr th {\n",
       "        vertical-align: top;\n",
       "    }\n",
       "\n",
       "    .dataframe thead th {\n",
       "        text-align: right;\n",
       "    }\n",
       "</style>\n",
       "<table border=\"1\" class=\"dataframe\">\n",
       "  <thead>\n",
       "    <tr style=\"text-align: right;\">\n",
       "      <th></th>\n",
       "      <th>start_ts</th>\n",
       "      <th>weather_conditions</th>\n",
       "      <th>duration_seconds</th>\n",
       "    </tr>\n",
       "  </thead>\n",
       "  <tbody>\n",
       "    <tr>\n",
       "      <th>0</th>\n",
       "      <td>2017-11-25 16:00:00</td>\n",
       "      <td>Good</td>\n",
       "      <td>2410.0</td>\n",
       "    </tr>\n",
       "    <tr>\n",
       "      <th>1</th>\n",
       "      <td>2017-11-25 14:00:00</td>\n",
       "      <td>Good</td>\n",
       "      <td>1920.0</td>\n",
       "    </tr>\n",
       "    <tr>\n",
       "      <th>2</th>\n",
       "      <td>2017-11-25 12:00:00</td>\n",
       "      <td>Good</td>\n",
       "      <td>1543.0</td>\n",
       "    </tr>\n",
       "    <tr>\n",
       "      <th>3</th>\n",
       "      <td>2017-11-04 10:00:00</td>\n",
       "      <td>Good</td>\n",
       "      <td>2512.0</td>\n",
       "    </tr>\n",
       "    <tr>\n",
       "      <th>4</th>\n",
       "      <td>2017-11-11 07:00:00</td>\n",
       "      <td>Good</td>\n",
       "      <td>1440.0</td>\n",
       "    </tr>\n",
       "    <tr>\n",
       "      <th>5</th>\n",
       "      <td>2017-11-11 04:00:00</td>\n",
       "      <td>Good</td>\n",
       "      <td>1320.0</td>\n",
       "    </tr>\n",
       "    <tr>\n",
       "      <th>6</th>\n",
       "      <td>2017-11-04 16:00:00</td>\n",
       "      <td>Bad</td>\n",
       "      <td>2969.0</td>\n",
       "    </tr>\n",
       "    <tr>\n",
       "      <th>7</th>\n",
       "      <td>2017-11-18 11:00:00</td>\n",
       "      <td>Good</td>\n",
       "      <td>2280.0</td>\n",
       "    </tr>\n",
       "    <tr>\n",
       "      <th>8</th>\n",
       "      <td>2017-11-11 14:00:00</td>\n",
       "      <td>Good</td>\n",
       "      <td>2460.0</td>\n",
       "    </tr>\n",
       "    <tr>\n",
       "      <th>9</th>\n",
       "      <td>2017-11-11 12:00:00</td>\n",
       "      <td>Good</td>\n",
       "      <td>2040.0</td>\n",
       "    </tr>\n",
       "  </tbody>\n",
       "</table>\n",
       "</div>"
      ],
      "text/plain": [
       "              start_ts weather_conditions  duration_seconds\n",
       "0  2017-11-25 16:00:00               Good            2410.0\n",
       "1  2017-11-25 14:00:00               Good            1920.0\n",
       "2  2017-11-25 12:00:00               Good            1543.0\n",
       "3  2017-11-04 10:00:00               Good            2512.0\n",
       "4  2017-11-11 07:00:00               Good            1440.0\n",
       "5  2017-11-11 04:00:00               Good            1320.0\n",
       "6  2017-11-04 16:00:00                Bad            2969.0\n",
       "7  2017-11-18 11:00:00               Good            2280.0\n",
       "8  2017-11-11 14:00:00               Good            2460.0\n",
       "9  2017-11-11 12:00:00               Good            2040.0"
      ]
     },
     "execution_count": 13,
     "metadata": {},
     "output_type": "execute_result"
    }
   ],
   "source": [
    "# display weather conditions dataset\n",
    "airport_trips = pd.read_csv('/datasets/project_sql_result_07.csv')\n",
    "airport_trips.head(10)"
   ]
  },
  {
   "cell_type": "markdown",
   "metadata": {},
   "source": [
    "The `airport_trips` table is a composite table that consolidates data from various sources, providing information on trips from the Loop to O'Hare International Airport. The key columns include:\n",
    "\n",
    "- Pickup date and time (in the `start_ts` column),    \n",
    "- Weather conditions at the start of the trip (in the `weather_conditions` column), and    \n",
    "- Trip duration in seconds (in the `duration_seconds` column).    \n",
    "\n",
    "This table will be used in the hypothesis testing phase. Below is a general summary of the `airport_trips` table:"
   ]
  },
  {
   "cell_type": "code",
   "execution_count": 14,
   "metadata": {
    "scrolled": true
   },
   "outputs": [
    {
     "name": "stdout",
     "output_type": "stream",
     "text": [
      "<class 'pandas.core.frame.DataFrame'>\n",
      "RangeIndex: 1068 entries, 0 to 1067\n",
      "Data columns (total 3 columns):\n",
      " #   Column              Non-Null Count  Dtype  \n",
      "---  ------              --------------  -----  \n",
      " 0   start_ts            1068 non-null   object \n",
      " 1   weather_conditions  1068 non-null   object \n",
      " 2   duration_seconds    1068 non-null   float64\n",
      "dtypes: float64(1), object(2)\n",
      "memory usage: 25.2+ KB\n"
     ]
    }
   ],
   "source": [
    "airport_trips.info()"
   ]
  },
  {
   "cell_type": "code",
   "execution_count": 15,
   "metadata": {},
   "outputs": [
    {
     "name": "stdout",
     "output_type": "stream",
     "text": [
      "Duplicates in airport_trips:  197\n"
     ]
    }
   ],
   "source": [
    "# check duplicates\n",
    "print('Duplicates in airport_trips: ', airport_trips.duplicated().sum())"
   ]
  },
  {
   "cell_type": "markdown",
   "metadata": {},
   "source": [
    "The `airport_trips` table contains a total of 1,068 entries with no missing values in any of the three columns. There are 197 duplicate rows, which will be further examined in the Data Preparation phase. The data types for two columns are appropriate, with `weather_conditions` as an object and `duration_seconds` as a float. However, the `start_ts` column remains as an object and requires conversion to datetime."
   ]
  },
  {
   "cell_type": "markdown",
   "metadata": {},
   "source": [
    "[Back to Contents](#contents)"
   ]
  },
  {
   "cell_type": "markdown",
   "metadata": {},
   "source": [
    "## Data Preparation"
   ]
  },
  {
   "cell_type": "markdown",
   "metadata": {},
   "source": [
    "### `weather_records` Table"
   ]
  },
  {
   "cell_type": "code",
   "execution_count": 16,
   "metadata": {},
   "outputs": [
    {
     "data": {
      "text/html": [
       "<div>\n",
       "<style scoped>\n",
       "    .dataframe tbody tr th:only-of-type {\n",
       "        vertical-align: middle;\n",
       "    }\n",
       "\n",
       "    .dataframe tbody tr th {\n",
       "        vertical-align: top;\n",
       "    }\n",
       "\n",
       "    .dataframe thead th {\n",
       "        text-align: right;\n",
       "    }\n",
       "</style>\n",
       "<table border=\"1\" class=\"dataframe\">\n",
       "  <thead>\n",
       "    <tr style=\"text-align: right;\">\n",
       "      <th></th>\n",
       "      <th>date_and_time</th>\n",
       "      <th>temperature</th>\n",
       "      <th>description</th>\n",
       "    </tr>\n",
       "  </thead>\n",
       "  <tbody>\n",
       "    <tr>\n",
       "      <th>0</th>\n",
       "      <td>2017-11-01 00:00:00</td>\n",
       "      <td>276.150</td>\n",
       "      <td>broken clouds</td>\n",
       "    </tr>\n",
       "    <tr>\n",
       "      <th>1</th>\n",
       "      <td>2017-11-01 01:00:00</td>\n",
       "      <td>275.700</td>\n",
       "      <td>scattered clouds</td>\n",
       "    </tr>\n",
       "    <tr>\n",
       "      <th>2</th>\n",
       "      <td>2017-11-01 02:00:00</td>\n",
       "      <td>275.610</td>\n",
       "      <td>overcast clouds</td>\n",
       "    </tr>\n",
       "    <tr>\n",
       "      <th>3</th>\n",
       "      <td>2017-11-01 03:00:00</td>\n",
       "      <td>275.350</td>\n",
       "      <td>broken clouds</td>\n",
       "    </tr>\n",
       "    <tr>\n",
       "      <th>4</th>\n",
       "      <td>2017-11-01 04:00:00</td>\n",
       "      <td>275.240</td>\n",
       "      <td>broken clouds</td>\n",
       "    </tr>\n",
       "  </tbody>\n",
       "</table>\n",
       "</div>"
      ],
      "text/plain": [
       "         date_and_time temperature       description\n",
       "0  2017-11-01 00:00:00     276.150     broken clouds\n",
       "1  2017-11-01 01:00:00     275.700  scattered clouds\n",
       "2  2017-11-01 02:00:00     275.610   overcast clouds\n",
       "3  2017-11-01 03:00:00     275.350     broken clouds\n",
       "4  2017-11-01 04:00:00     275.240     broken clouds"
      ]
     },
     "execution_count": 16,
     "metadata": {},
     "output_type": "execute_result"
    }
   ],
   "source": [
    "# rename column in lowercase\n",
    "weather_records.columns = weather_records.columns.str.lower()\n",
    "weather_records = weather_records.rename(columns={'date and time': 'date_and_time'})\n",
    "weather_records.head()"
   ]
  },
  {
   "cell_type": "markdown",
   "metadata": {},
   "source": [
    "Column names have been standardized to lowercase with underscores used to replace spaces between words. The next step for the `weather_records` table is to modify the data types for selected columns."
   ]
  },
  {
   "cell_type": "code",
   "execution_count": 17,
   "metadata": {},
   "outputs": [
    {
     "name": "stdout",
     "output_type": "stream",
     "text": [
      "<class 'pandas.core.frame.DataFrame'>\n",
      "RangeIndex: 697 entries, 0 to 696\n",
      "Data columns (total 3 columns):\n",
      " #   Column         Non-Null Count  Dtype         \n",
      "---  ------         --------------  -----         \n",
      " 0   date_and_time  697 non-null    datetime64[ns]\n",
      " 1   temperature    697 non-null    float64       \n",
      " 2   description    697 non-null    object        \n",
      "dtypes: datetime64[ns](1), float64(1), object(1)\n",
      "memory usage: 16.5+ KB\n"
     ]
    }
   ],
   "source": [
    "# change data type of 'date_and_time' to datetime\n",
    "weather_records['date_and_time'] = pd.to_datetime(weather_records['date_and_time'], format='%Y-%m-%d %H:%M:%S')\n",
    "\n",
    "# change data type of 'temperature' to fload\n",
    "weather_records['temperature'] = weather_records['temperature'].astype(float)\n",
    "\n",
    "weather_records.info()"
   ]
  },
  {
   "cell_type": "markdown",
   "metadata": {},
   "source": [
    "The data types for the `date_and_time` and `temperature` columns have been successfully converted to datetime and float, respectively."
   ]
  },
  {
   "cell_type": "markdown",
   "metadata": {},
   "source": [
    "The next step involves examining the unique values in the `description` column. This analysis is necessary as, in the hypothesis testing phase, one of the variables of interest is rainy weather. Therefore, it is important to understand how values in the `description` column differentiate between rainy and non-rainy conditions."
   ]
  },
  {
   "cell_type": "code",
   "execution_count": 18,
   "metadata": {},
   "outputs": [
    {
     "data": {
      "text/plain": [
       "sky is clear                        178\n",
       "overcast clouds                     146\n",
       "mist                                 97\n",
       "broken clouds                        63\n",
       "scattered clouds                     47\n",
       "few clouds                           37\n",
       "light rain                           31\n",
       "fog                                  24\n",
       "haze                                 18\n",
       "light intensity drizzle              13\n",
       "moderate rain                        12\n",
       "light snow                           11\n",
       "drizzle                               9\n",
       "proximity thunderstorm                5\n",
       "proximity thunderstorm with rain      2\n",
       "thunderstorm with drizzle             1\n",
       "thunderstorm with light rain          1\n",
       "thunderstorm with rain                1\n",
       "heavy intensity rain                  1\n",
       "Name: description, dtype: int64"
      ]
     },
     "execution_count": 18,
     "metadata": {},
     "output_type": "execute_result"
    }
   ],
   "source": [
    "#inspect unique values in `weather_records`\n",
    "weather_records['description'].value_counts()"
   ]
  },
  {
   "cell_type": "markdown",
   "metadata": {},
   "source": [
    "The `description` column provides detailed weather conditions, including various types of rain descriptions, such as 'drizzle,' 'light rain,' 'moderate rain,' and 'thunderstorm with rain.' For the purpose of hypothesis testing, a general categorization of weather—either raining or not raining—is required. \n",
    "\n",
    "Thus, a new column is needed to classify weather descriptions broadly as either 'raining' or 'not raining.'"
   ]
  },
  {
   "cell_type": "code",
   "execution_count": 19,
   "metadata": {},
   "outputs": [
    {
     "data": {
      "text/html": [
       "<div>\n",
       "<style scoped>\n",
       "    .dataframe tbody tr th:only-of-type {\n",
       "        vertical-align: middle;\n",
       "    }\n",
       "\n",
       "    .dataframe tbody tr th {\n",
       "        vertical-align: top;\n",
       "    }\n",
       "\n",
       "    .dataframe thead th {\n",
       "        text-align: right;\n",
       "    }\n",
       "</style>\n",
       "<table border=\"1\" class=\"dataframe\">\n",
       "  <thead>\n",
       "    <tr style=\"text-align: right;\">\n",
       "      <th></th>\n",
       "      <th>date_and_time</th>\n",
       "      <th>temperature</th>\n",
       "      <th>description</th>\n",
       "      <th>weather_category</th>\n",
       "    </tr>\n",
       "  </thead>\n",
       "  <tbody>\n",
       "    <tr>\n",
       "      <th>0</th>\n",
       "      <td>2017-11-01 00:00:00</td>\n",
       "      <td>276.15</td>\n",
       "      <td>broken clouds</td>\n",
       "      <td>not raining</td>\n",
       "    </tr>\n",
       "    <tr>\n",
       "      <th>1</th>\n",
       "      <td>2017-11-01 01:00:00</td>\n",
       "      <td>275.70</td>\n",
       "      <td>scattered clouds</td>\n",
       "      <td>not raining</td>\n",
       "    </tr>\n",
       "    <tr>\n",
       "      <th>2</th>\n",
       "      <td>2017-11-01 02:00:00</td>\n",
       "      <td>275.61</td>\n",
       "      <td>overcast clouds</td>\n",
       "      <td>not raining</td>\n",
       "    </tr>\n",
       "    <tr>\n",
       "      <th>3</th>\n",
       "      <td>2017-11-01 03:00:00</td>\n",
       "      <td>275.35</td>\n",
       "      <td>broken clouds</td>\n",
       "      <td>not raining</td>\n",
       "    </tr>\n",
       "    <tr>\n",
       "      <th>4</th>\n",
       "      <td>2017-11-01 04:00:00</td>\n",
       "      <td>275.24</td>\n",
       "      <td>broken clouds</td>\n",
       "      <td>not raining</td>\n",
       "    </tr>\n",
       "    <tr>\n",
       "      <th>5</th>\n",
       "      <td>2017-11-01 05:00:00</td>\n",
       "      <td>275.05</td>\n",
       "      <td>overcast clouds</td>\n",
       "      <td>not raining</td>\n",
       "    </tr>\n",
       "    <tr>\n",
       "      <th>6</th>\n",
       "      <td>2017-11-01 06:00:00</td>\n",
       "      <td>275.14</td>\n",
       "      <td>overcast clouds</td>\n",
       "      <td>not raining</td>\n",
       "    </tr>\n",
       "    <tr>\n",
       "      <th>7</th>\n",
       "      <td>2017-11-01 07:00:00</td>\n",
       "      <td>275.23</td>\n",
       "      <td>overcast clouds</td>\n",
       "      <td>not raining</td>\n",
       "    </tr>\n",
       "    <tr>\n",
       "      <th>8</th>\n",
       "      <td>2017-11-01 08:00:00</td>\n",
       "      <td>275.23</td>\n",
       "      <td>overcast clouds</td>\n",
       "      <td>not raining</td>\n",
       "    </tr>\n",
       "    <tr>\n",
       "      <th>9</th>\n",
       "      <td>2017-11-01 09:00:00</td>\n",
       "      <td>275.32</td>\n",
       "      <td>overcast clouds</td>\n",
       "      <td>not raining</td>\n",
       "    </tr>\n",
       "  </tbody>\n",
       "</table>\n",
       "</div>"
      ],
      "text/plain": [
       "        date_and_time  temperature       description weather_category\n",
       "0 2017-11-01 00:00:00       276.15     broken clouds      not raining\n",
       "1 2017-11-01 01:00:00       275.70  scattered clouds      not raining\n",
       "2 2017-11-01 02:00:00       275.61   overcast clouds      not raining\n",
       "3 2017-11-01 03:00:00       275.35     broken clouds      not raining\n",
       "4 2017-11-01 04:00:00       275.24     broken clouds      not raining\n",
       "5 2017-11-01 05:00:00       275.05   overcast clouds      not raining\n",
       "6 2017-11-01 06:00:00       275.14   overcast clouds      not raining\n",
       "7 2017-11-01 07:00:00       275.23   overcast clouds      not raining\n",
       "8 2017-11-01 08:00:00       275.23   overcast clouds      not raining\n",
       "9 2017-11-01 09:00:00       275.32   overcast clouds      not raining"
      ]
     },
     "execution_count": 19,
     "metadata": {},
     "output_type": "execute_result"
    }
   ],
   "source": [
    "# add column 'weather_category' to contain only 'raining' or 'not raining'\n",
    "weather_records['weather_category'] = np.where(\n",
    "    weather_records['description'].str.contains('rain|drizzle', case=False),\n",
    "    'raining',\n",
    "    'not raining'\n",
    ")\n",
    "weather_records.head(10)"
   ]
  },
  {
   "cell_type": "markdown",
   "metadata": {},
   "source": [
    "The daily weather descriptions are now categorized as either ‘raining’ or ‘not raining’ in the `weather_category` column. Next, this table will need to be merged with the `airport_trip`s table, where trips from the Loop to O'Hare International Airport are recorded by specific dates and times. \n",
    "\n",
    "To prepare for this merge, the `weather_records` table will be streamlined to include only the necessary columns and saved in a new dataframe called `df_weather`. The required columns are `date_and_time` and `weather_category`."
   ]
  },
  {
   "cell_type": "code",
   "execution_count": 20,
   "metadata": {},
   "outputs": [
    {
     "data": {
      "text/html": [
       "<div>\n",
       "<style scoped>\n",
       "    .dataframe tbody tr th:only-of-type {\n",
       "        vertical-align: middle;\n",
       "    }\n",
       "\n",
       "    .dataframe tbody tr th {\n",
       "        vertical-align: top;\n",
       "    }\n",
       "\n",
       "    .dataframe thead th {\n",
       "        text-align: right;\n",
       "    }\n",
       "</style>\n",
       "<table border=\"1\" class=\"dataframe\">\n",
       "  <thead>\n",
       "    <tr style=\"text-align: right;\">\n",
       "      <th></th>\n",
       "      <th>date_and_time</th>\n",
       "      <th>weather_category</th>\n",
       "    </tr>\n",
       "  </thead>\n",
       "  <tbody>\n",
       "    <tr>\n",
       "      <th>0</th>\n",
       "      <td>2017-11-01 00:00:00</td>\n",
       "      <td>not raining</td>\n",
       "    </tr>\n",
       "    <tr>\n",
       "      <th>1</th>\n",
       "      <td>2017-11-01 01:00:00</td>\n",
       "      <td>not raining</td>\n",
       "    </tr>\n",
       "    <tr>\n",
       "      <th>2</th>\n",
       "      <td>2017-11-01 02:00:00</td>\n",
       "      <td>not raining</td>\n",
       "    </tr>\n",
       "    <tr>\n",
       "      <th>3</th>\n",
       "      <td>2017-11-01 03:00:00</td>\n",
       "      <td>not raining</td>\n",
       "    </tr>\n",
       "    <tr>\n",
       "      <th>4</th>\n",
       "      <td>2017-11-01 04:00:00</td>\n",
       "      <td>not raining</td>\n",
       "    </tr>\n",
       "  </tbody>\n",
       "</table>\n",
       "</div>"
      ],
      "text/plain": [
       "        date_and_time weather_category\n",
       "0 2017-11-01 00:00:00      not raining\n",
       "1 2017-11-01 01:00:00      not raining\n",
       "2 2017-11-01 02:00:00      not raining\n",
       "3 2017-11-01 03:00:00      not raining\n",
       "4 2017-11-01 04:00:00      not raining"
      ]
     },
     "execution_count": 20,
     "metadata": {},
     "output_type": "execute_result"
    }
   ],
   "source": [
    "# store weather_records as separate dataframe\n",
    "df_weather = weather_records[['date_and_time', 'weather_category']] # include only columns relevant for hypothesis testing\n",
    "df_weather.head()"
   ]
  },
  {
   "cell_type": "markdown",
   "metadata": {},
   "source": [
    "The new dataframe `df_weather` now contains the essential columns for merging tables before hypothesis testing."
   ]
  },
  {
   "cell_type": "markdown",
   "metadata": {},
   "source": [
    "[Back to Data Preparation](#Data-Preparation)"
   ]
  },
  {
   "cell_type": "markdown",
   "metadata": {},
   "source": [
    "### `airport_trips` Table"
   ]
  },
  {
   "cell_type": "markdown",
   "metadata": {},
   "source": [
    "The required adjustments for the airport_trips table are:\n",
    "\n",
    "1. Changing the data type of the `start_ts` column from object to datetime.\n",
    "2. Handling duplicate entries."
   ]
  },
  {
   "cell_type": "code",
   "execution_count": 21,
   "metadata": {},
   "outputs": [
    {
     "data": {
      "text/html": [
       "<div>\n",
       "<style scoped>\n",
       "    .dataframe tbody tr th:only-of-type {\n",
       "        vertical-align: middle;\n",
       "    }\n",
       "\n",
       "    .dataframe tbody tr th {\n",
       "        vertical-align: top;\n",
       "    }\n",
       "\n",
       "    .dataframe thead th {\n",
       "        text-align: right;\n",
       "    }\n",
       "</style>\n",
       "<table border=\"1\" class=\"dataframe\">\n",
       "  <thead>\n",
       "    <tr style=\"text-align: right;\">\n",
       "      <th></th>\n",
       "      <th>start_ts</th>\n",
       "      <th>weather_conditions</th>\n",
       "      <th>duration_seconds</th>\n",
       "    </tr>\n",
       "  </thead>\n",
       "  <tbody>\n",
       "    <tr>\n",
       "      <th>0</th>\n",
       "      <td>2017-11-25 16:00:00</td>\n",
       "      <td>Good</td>\n",
       "      <td>2410.0</td>\n",
       "    </tr>\n",
       "    <tr>\n",
       "      <th>1</th>\n",
       "      <td>2017-11-25 14:00:00</td>\n",
       "      <td>Good</td>\n",
       "      <td>1920.0</td>\n",
       "    </tr>\n",
       "    <tr>\n",
       "      <th>2</th>\n",
       "      <td>2017-11-25 12:00:00</td>\n",
       "      <td>Good</td>\n",
       "      <td>1543.0</td>\n",
       "    </tr>\n",
       "    <tr>\n",
       "      <th>3</th>\n",
       "      <td>2017-11-04 10:00:00</td>\n",
       "      <td>Good</td>\n",
       "      <td>2512.0</td>\n",
       "    </tr>\n",
       "    <tr>\n",
       "      <th>4</th>\n",
       "      <td>2017-11-11 07:00:00</td>\n",
       "      <td>Good</td>\n",
       "      <td>1440.0</td>\n",
       "    </tr>\n",
       "  </tbody>\n",
       "</table>\n",
       "</div>"
      ],
      "text/plain": [
       "             start_ts weather_conditions  duration_seconds\n",
       "0 2017-11-25 16:00:00               Good            2410.0\n",
       "1 2017-11-25 14:00:00               Good            1920.0\n",
       "2 2017-11-25 12:00:00               Good            1543.0\n",
       "3 2017-11-04 10:00:00               Good            2512.0\n",
       "4 2017-11-11 07:00:00               Good            1440.0"
      ]
     },
     "execution_count": 21,
     "metadata": {},
     "output_type": "execute_result"
    }
   ],
   "source": [
    "# change data type to datetime\n",
    "airport_trips['start_ts'] = pd.to_datetime(airport_trips['start_ts'], format='%Y-%m-%d %H:%M:%S')\n",
    "airport_trips.head()"
   ]
  },
  {
   "cell_type": "code",
   "execution_count": 22,
   "metadata": {},
   "outputs": [
    {
     "name": "stdout",
     "output_type": "stream",
     "text": [
      "<class 'pandas.core.frame.DataFrame'>\n",
      "RangeIndex: 1068 entries, 0 to 1067\n",
      "Data columns (total 3 columns):\n",
      " #   Column              Non-Null Count  Dtype         \n",
      "---  ------              --------------  -----         \n",
      " 0   start_ts            1068 non-null   datetime64[ns]\n",
      " 1   weather_conditions  1068 non-null   object        \n",
      " 2   duration_seconds    1068 non-null   float64       \n",
      "dtypes: datetime64[ns](1), float64(1), object(1)\n",
      "memory usage: 25.2+ KB\n"
     ]
    }
   ],
   "source": [
    "airport_trips.info()"
   ]
  },
  {
   "cell_type": "markdown",
   "metadata": {},
   "source": [
    "The data type of column `start_ts` has been converted to datetime"
   ]
  },
  {
   "cell_type": "code",
   "execution_count": 23,
   "metadata": {},
   "outputs": [
    {
     "data": {
      "text/html": [
       "<div>\n",
       "<style scoped>\n",
       "    .dataframe tbody tr th:only-of-type {\n",
       "        vertical-align: middle;\n",
       "    }\n",
       "\n",
       "    .dataframe tbody tr th {\n",
       "        vertical-align: top;\n",
       "    }\n",
       "\n",
       "    .dataframe thead th {\n",
       "        text-align: right;\n",
       "    }\n",
       "</style>\n",
       "<table border=\"1\" class=\"dataframe\">\n",
       "  <thead>\n",
       "    <tr style=\"text-align: right;\">\n",
       "      <th></th>\n",
       "      <th>start_ts</th>\n",
       "      <th>weather_conditions</th>\n",
       "      <th>duration_seconds</th>\n",
       "    </tr>\n",
       "  </thead>\n",
       "  <tbody>\n",
       "    <tr>\n",
       "      <th>4</th>\n",
       "      <td>2017-11-11 07:00:00</td>\n",
       "      <td>Good</td>\n",
       "      <td>1440.0</td>\n",
       "    </tr>\n",
       "    <tr>\n",
       "      <th>8</th>\n",
       "      <td>2017-11-11 14:00:00</td>\n",
       "      <td>Good</td>\n",
       "      <td>2460.0</td>\n",
       "    </tr>\n",
       "    <tr>\n",
       "      <th>10</th>\n",
       "      <td>2017-11-18 06:00:00</td>\n",
       "      <td>Good</td>\n",
       "      <td>1500.0</td>\n",
       "    </tr>\n",
       "    <tr>\n",
       "      <th>16</th>\n",
       "      <td>2017-11-04 12:00:00</td>\n",
       "      <td>Good</td>\n",
       "      <td>2640.0</td>\n",
       "    </tr>\n",
       "    <tr>\n",
       "      <th>23</th>\n",
       "      <td>2017-11-04 14:00:00</td>\n",
       "      <td>Good</td>\n",
       "      <td>3360.0</td>\n",
       "    </tr>\n",
       "    <tr>\n",
       "      <th>24</th>\n",
       "      <td>2017-11-04 14:00:00</td>\n",
       "      <td>Good</td>\n",
       "      <td>3180.0</td>\n",
       "    </tr>\n",
       "    <tr>\n",
       "      <th>33</th>\n",
       "      <td>2017-11-04 12:00:00</td>\n",
       "      <td>Good</td>\n",
       "      <td>2580.0</td>\n",
       "    </tr>\n",
       "    <tr>\n",
       "      <th>35</th>\n",
       "      <td>2017-11-11 09:00:00</td>\n",
       "      <td>Good</td>\n",
       "      <td>1620.0</td>\n",
       "    </tr>\n",
       "    <tr>\n",
       "      <th>43</th>\n",
       "      <td>2017-11-11 06:00:00</td>\n",
       "      <td>Good</td>\n",
       "      <td>1260.0</td>\n",
       "    </tr>\n",
       "    <tr>\n",
       "      <th>50</th>\n",
       "      <td>2017-11-11 12:00:00</td>\n",
       "      <td>Good</td>\n",
       "      <td>1980.0</td>\n",
       "    </tr>\n",
       "  </tbody>\n",
       "</table>\n",
       "</div>"
      ],
      "text/plain": [
       "              start_ts weather_conditions  duration_seconds\n",
       "4  2017-11-11 07:00:00               Good            1440.0\n",
       "8  2017-11-11 14:00:00               Good            2460.0\n",
       "10 2017-11-18 06:00:00               Good            1500.0\n",
       "16 2017-11-04 12:00:00               Good            2640.0\n",
       "23 2017-11-04 14:00:00               Good            3360.0\n",
       "24 2017-11-04 14:00:00               Good            3180.0\n",
       "33 2017-11-04 12:00:00               Good            2580.0\n",
       "35 2017-11-11 09:00:00               Good            1620.0\n",
       "43 2017-11-11 06:00:00               Good            1260.0\n",
       "50 2017-11-11 12:00:00               Good            1980.0"
      ]
     },
     "execution_count": 23,
     "metadata": {},
     "output_type": "execute_result"
    }
   ],
   "source": [
    "# inspect duplicate rows in dataframe\n",
    "trips_duplicate = airport_trips[airport_trips.duplicated(keep=False)]\n",
    "trips_duplicate.head(10)"
   ]
  },
  {
   "cell_type": "markdown",
   "metadata": {},
   "source": [
    "The table above represents a portion of the rows identified as duplicates in the airport_trips table. These rows have identical values across all columns. The airport_trips table itself records trips from the Loop to the O'Hare area **without specifying which taxi company performed the trip**.\n",
    "\n",
    "It is quite possible that, at the same time, two taxis from different companies were dispatched for this route and completed it within the same duration by following the same roads. Considering this, the 197 duplicate rows will be retained in the dataframe."
   ]
  },
  {
   "cell_type": "markdown",
   "metadata": {},
   "source": [
    "As noted previously, the `airport_trips` table needs to be merged with the `df_weather` table for hypothesis testing. The date of each trip in the `airport_trips` table (in the `start_ts` column) will serve as the index for the merged table.\n",
    "\n",
    "Before merging, this table should be saved in a new dataframe that includes only the necessary columns, specifically `start_ts` and `duration`. In the current `airport_trips` table, there is a `weather_conditions` column indicating weather status as either Good or Bad. However, there is no clear definition of what constitutes \"Good\" weather versus \"Bad\" weather, so this column will be excluded."
   ]
  },
  {
   "cell_type": "code",
   "execution_count": 25,
   "metadata": {},
   "outputs": [
    {
     "data": {
      "text/html": [
       "<div>\n",
       "<style scoped>\n",
       "    .dataframe tbody tr th:only-of-type {\n",
       "        vertical-align: middle;\n",
       "    }\n",
       "\n",
       "    .dataframe tbody tr th {\n",
       "        vertical-align: top;\n",
       "    }\n",
       "\n",
       "    .dataframe thead th {\n",
       "        text-align: right;\n",
       "    }\n",
       "</style>\n",
       "<table border=\"1\" class=\"dataframe\">\n",
       "  <thead>\n",
       "    <tr style=\"text-align: right;\">\n",
       "      <th></th>\n",
       "      <th>start_ts</th>\n",
       "      <th>duration_seconds</th>\n",
       "    </tr>\n",
       "  </thead>\n",
       "  <tbody>\n",
       "    <tr>\n",
       "      <th>0</th>\n",
       "      <td>2017-11-25 16:00:00</td>\n",
       "      <td>2410.0</td>\n",
       "    </tr>\n",
       "    <tr>\n",
       "      <th>1</th>\n",
       "      <td>2017-11-25 14:00:00</td>\n",
       "      <td>1920.0</td>\n",
       "    </tr>\n",
       "    <tr>\n",
       "      <th>2</th>\n",
       "      <td>2017-11-25 12:00:00</td>\n",
       "      <td>1543.0</td>\n",
       "    </tr>\n",
       "    <tr>\n",
       "      <th>3</th>\n",
       "      <td>2017-11-04 10:00:00</td>\n",
       "      <td>2512.0</td>\n",
       "    </tr>\n",
       "    <tr>\n",
       "      <th>4</th>\n",
       "      <td>2017-11-11 07:00:00</td>\n",
       "      <td>1440.0</td>\n",
       "    </tr>\n",
       "  </tbody>\n",
       "</table>\n",
       "</div>"
      ],
      "text/plain": [
       "             start_ts  duration_seconds\n",
       "0 2017-11-25 16:00:00            2410.0\n",
       "1 2017-11-25 14:00:00            1920.0\n",
       "2 2017-11-25 12:00:00            1543.0\n",
       "3 2017-11-04 10:00:00            2512.0\n",
       "4 2017-11-11 07:00:00            1440.0"
      ]
     },
     "execution_count": 25,
     "metadata": {},
     "output_type": "execute_result"
    }
   ],
   "source": [
    "# new dataframe of airport trips containing only trip starting time and trip duration\n",
    "df_airport_trips = airport_trips[['start_ts', 'duration_seconds']]\n",
    "df_airport_trips.head()"
   ]
  },
  {
   "cell_type": "markdown",
   "metadata": {},
   "source": [
    "The next step is to merge the `df_weather` and `df_airport_trips` tables. The `start_ts` column in the `df_airport_trips` table will serve as the index, and only rows from `df_weather` with matching dates and times in `start_ts` will be included in the merge."
   ]
  },
  {
   "cell_type": "code",
   "execution_count": 28,
   "metadata": {
    "scrolled": true
   },
   "outputs": [
    {
     "data": {
      "text/html": [
       "<div>\n",
       "<style scoped>\n",
       "    .dataframe tbody tr th:only-of-type {\n",
       "        vertical-align: middle;\n",
       "    }\n",
       "\n",
       "    .dataframe tbody tr th {\n",
       "        vertical-align: top;\n",
       "    }\n",
       "\n",
       "    .dataframe thead th {\n",
       "        text-align: right;\n",
       "    }\n",
       "</style>\n",
       "<table border=\"1\" class=\"dataframe\">\n",
       "  <thead>\n",
       "    <tr style=\"text-align: right;\">\n",
       "      <th></th>\n",
       "      <th>duration_seconds</th>\n",
       "      <th>date_and_time</th>\n",
       "      <th>weather_category</th>\n",
       "    </tr>\n",
       "  </thead>\n",
       "  <tbody>\n",
       "    <tr>\n",
       "      <th>592</th>\n",
       "      <td>2410.0</td>\n",
       "      <td>2017-11-25 16:00:00</td>\n",
       "      <td>not raining</td>\n",
       "    </tr>\n",
       "    <tr>\n",
       "      <th>592</th>\n",
       "      <td>1620.0</td>\n",
       "      <td>2017-11-25 16:00:00</td>\n",
       "      <td>not raining</td>\n",
       "    </tr>\n",
       "    <tr>\n",
       "      <th>592</th>\n",
       "      <td>2563.0</td>\n",
       "      <td>2017-11-25 16:00:00</td>\n",
       "      <td>not raining</td>\n",
       "    </tr>\n",
       "    <tr>\n",
       "      <th>592</th>\n",
       "      <td>2091.0</td>\n",
       "      <td>2017-11-25 16:00:00</td>\n",
       "      <td>not raining</td>\n",
       "    </tr>\n",
       "    <tr>\n",
       "      <th>592</th>\n",
       "      <td>2203.0</td>\n",
       "      <td>2017-11-25 16:00:00</td>\n",
       "      <td>not raining</td>\n",
       "    </tr>\n",
       "    <tr>\n",
       "      <th>592</th>\n",
       "      <td>2767.0</td>\n",
       "      <td>2017-11-25 16:00:00</td>\n",
       "      <td>not raining</td>\n",
       "    </tr>\n",
       "    <tr>\n",
       "      <th>592</th>\n",
       "      <td>2400.0</td>\n",
       "      <td>2017-11-25 16:00:00</td>\n",
       "      <td>not raining</td>\n",
       "    </tr>\n",
       "    <tr>\n",
       "      <th>590</th>\n",
       "      <td>1920.0</td>\n",
       "      <td>2017-11-25 14:00:00</td>\n",
       "      <td>not raining</td>\n",
       "    </tr>\n",
       "    <tr>\n",
       "      <th>590</th>\n",
       "      <td>1620.0</td>\n",
       "      <td>2017-11-25 14:00:00</td>\n",
       "      <td>not raining</td>\n",
       "    </tr>\n",
       "    <tr>\n",
       "      <th>590</th>\n",
       "      <td>1740.0</td>\n",
       "      <td>2017-11-25 14:00:00</td>\n",
       "      <td>not raining</td>\n",
       "    </tr>\n",
       "  </tbody>\n",
       "</table>\n",
       "</div>"
      ],
      "text/plain": [
       "     duration_seconds       date_and_time weather_category\n",
       "592            2410.0 2017-11-25 16:00:00      not raining\n",
       "592            1620.0 2017-11-25 16:00:00      not raining\n",
       "592            2563.0 2017-11-25 16:00:00      not raining\n",
       "592            2091.0 2017-11-25 16:00:00      not raining\n",
       "592            2203.0 2017-11-25 16:00:00      not raining\n",
       "592            2767.0 2017-11-25 16:00:00      not raining\n",
       "592            2400.0 2017-11-25 16:00:00      not raining\n",
       "590            1920.0 2017-11-25 14:00:00      not raining\n",
       "590            1620.0 2017-11-25 14:00:00      not raining\n",
       "590            1740.0 2017-11-25 14:00:00      not raining"
      ]
     },
     "execution_count": 28,
     "metadata": {},
     "output_type": "execute_result"
    }
   ],
   "source": [
    "# merge df_airport_trips and df_weather\n",
    "df_airport_trips = df_airport_trips.set_index('start_ts') \n",
    "trip_records = df_airport_trips.merge(df_weather, left_index=True, right_on='date_and_time', how='inner') # use column 'date' from df_airport_trips as index\n",
    "trip_records.head(10)"
   ]
  },
  {
   "cell_type": "markdown",
   "metadata": {},
   "source": [
    "The two tables have been successfully merged into a new table named `trip_records`. Some necessary adjustments include renaming the `date_and_time` column to `start_of_trip`, repositioning it to the far left, and sorting the rows by the earliest date."
   ]
  },
  {
   "cell_type": "code",
   "execution_count": 29,
   "metadata": {},
   "outputs": [
    {
     "data": {
      "text/html": [
       "<div>\n",
       "<style scoped>\n",
       "    .dataframe tbody tr th:only-of-type {\n",
       "        vertical-align: middle;\n",
       "    }\n",
       "\n",
       "    .dataframe tbody tr th {\n",
       "        vertical-align: top;\n",
       "    }\n",
       "\n",
       "    .dataframe thead th {\n",
       "        text-align: right;\n",
       "    }\n",
       "</style>\n",
       "<table border=\"1\" class=\"dataframe\">\n",
       "  <thead>\n",
       "    <tr style=\"text-align: right;\">\n",
       "      <th></th>\n",
       "      <th>start_of_trip</th>\n",
       "      <th>duration_seconds</th>\n",
       "      <th>weather_category</th>\n",
       "    </tr>\n",
       "  </thead>\n",
       "  <tbody>\n",
       "    <tr>\n",
       "      <th>72</th>\n",
       "      <td>2017-11-04 00:00:00</td>\n",
       "      <td>1560.0</td>\n",
       "      <td>not raining</td>\n",
       "    </tr>\n",
       "    <tr>\n",
       "      <th>73</th>\n",
       "      <td>2017-11-04 01:00:00</td>\n",
       "      <td>0.0</td>\n",
       "      <td>not raining</td>\n",
       "    </tr>\n",
       "    <tr>\n",
       "      <th>74</th>\n",
       "      <td>2017-11-04 02:00:00</td>\n",
       "      <td>2956.0</td>\n",
       "      <td>not raining</td>\n",
       "    </tr>\n",
       "    <tr>\n",
       "      <th>76</th>\n",
       "      <td>2017-11-04 04:00:00</td>\n",
       "      <td>1333.0</td>\n",
       "      <td>not raining</td>\n",
       "    </tr>\n",
       "    <tr>\n",
       "      <th>76</th>\n",
       "      <td>2017-11-04 04:00:00</td>\n",
       "      <td>1440.0</td>\n",
       "      <td>not raining</td>\n",
       "    </tr>\n",
       "  </tbody>\n",
       "</table>\n",
       "</div>"
      ],
      "text/plain": [
       "         start_of_trip  duration_seconds weather_category\n",
       "72 2017-11-04 00:00:00            1560.0      not raining\n",
       "73 2017-11-04 01:00:00               0.0      not raining\n",
       "74 2017-11-04 02:00:00            2956.0      not raining\n",
       "76 2017-11-04 04:00:00            1333.0      not raining\n",
       "76 2017-11-04 04:00:00            1440.0      not raining"
      ]
     },
     "execution_count": 29,
     "metadata": {},
     "output_type": "execute_result"
    }
   ],
   "source": [
    "# rename column 'date_and_time' to 'start_of_trip'\n",
    "trip_records = trip_records.rename(columns={'date_and_time': 'start_of_trip'})\n",
    "\n",
    "# sort rows in ascending order\n",
    "trip_records = trip_records.sort_values(by='start_of_trip')\n",
    "\n",
    "# arrange column display\n",
    "trip_records = trip_records[['start_of_trip', 'duration_seconds', 'weather_category']]\n",
    "trip_records.head()"
   ]
  },
  {
   "cell_type": "markdown",
   "metadata": {},
   "source": [
    "[Back to Data Preparation](#Data-Preparation)"
   ]
  },
  {
   "cell_type": "markdown",
   "metadata": {},
   "source": [
    "### `trip_records` Segmentation"
   ]
  },
  {
   "cell_type": "markdown",
   "metadata": {},
   "source": [
    "For hypothesis testing, additional preparation of the `trip_records` table is required. A significance test will be conducted to compare days with rain to days without rain. Therefore, the `trip_records` table needs to be divided into two new tables: \n",
    "\n",
    "1. trips that occurred during rain (will be named `raining_trips`), and    \n",
    "2. trips that occurred in non-rainy conditions (will be named `other_trips`)."
   ]
  },
  {
   "cell_type": "code",
   "execution_count": 30,
   "metadata": {},
   "outputs": [
    {
     "data": {
      "text/html": [
       "<div>\n",
       "<style scoped>\n",
       "    .dataframe tbody tr th:only-of-type {\n",
       "        vertical-align: middle;\n",
       "    }\n",
       "\n",
       "    .dataframe tbody tr th {\n",
       "        vertical-align: top;\n",
       "    }\n",
       "\n",
       "    .dataframe thead th {\n",
       "        text-align: right;\n",
       "    }\n",
       "</style>\n",
       "<table border=\"1\" class=\"dataframe\">\n",
       "  <thead>\n",
       "    <tr style=\"text-align: right;\">\n",
       "      <th></th>\n",
       "      <th>start_of_trip</th>\n",
       "      <th>duration_seconds</th>\n",
       "      <th>weather_category</th>\n",
       "    </tr>\n",
       "  </thead>\n",
       "  <tbody>\n",
       "    <tr>\n",
       "      <th>86</th>\n",
       "      <td>2017-11-04 14:00:00</td>\n",
       "      <td>3360.0</td>\n",
       "      <td>raining</td>\n",
       "    </tr>\n",
       "    <tr>\n",
       "      <th>86</th>\n",
       "      <td>2017-11-04 14:00:00</td>\n",
       "      <td>3000.0</td>\n",
       "      <td>raining</td>\n",
       "    </tr>\n",
       "    <tr>\n",
       "      <th>86</th>\n",
       "      <td>2017-11-04 14:00:00</td>\n",
       "      <td>3887.0</td>\n",
       "      <td>raining</td>\n",
       "    </tr>\n",
       "    <tr>\n",
       "      <th>86</th>\n",
       "      <td>2017-11-04 14:00:00</td>\n",
       "      <td>3427.0</td>\n",
       "      <td>raining</td>\n",
       "    </tr>\n",
       "    <tr>\n",
       "      <th>86</th>\n",
       "      <td>2017-11-04 14:00:00</td>\n",
       "      <td>2940.0</td>\n",
       "      <td>raining</td>\n",
       "    </tr>\n",
       "  </tbody>\n",
       "</table>\n",
       "</div>"
      ],
      "text/plain": [
       "         start_of_trip  duration_seconds weather_category\n",
       "86 2017-11-04 14:00:00            3360.0          raining\n",
       "86 2017-11-04 14:00:00            3000.0          raining\n",
       "86 2017-11-04 14:00:00            3887.0          raining\n",
       "86 2017-11-04 14:00:00            3427.0          raining\n",
       "86 2017-11-04 14:00:00            2940.0          raining"
      ]
     },
     "execution_count": 30,
     "metadata": {},
     "output_type": "execute_result"
    }
   ],
   "source": [
    "# separate table for trips when raining\n",
    "raining_trips = trip_records[trip_records['weather_category'] == 'raining']\n",
    "raining_trips.head()"
   ]
  },
  {
   "cell_type": "code",
   "execution_count": 31,
   "metadata": {},
   "outputs": [
    {
     "name": "stdout",
     "output_type": "stream",
     "text": [
      "<class 'pandas.core.frame.DataFrame'>\n",
      "Int64Index: 212 entries, 86 to 429\n",
      "Data columns (total 3 columns):\n",
      " #   Column            Non-Null Count  Dtype         \n",
      "---  ------            --------------  -----         \n",
      " 0   start_of_trip     212 non-null    datetime64[ns]\n",
      " 1   duration_seconds  212 non-null    float64       \n",
      " 2   weather_category  212 non-null    object        \n",
      "dtypes: datetime64[ns](1), float64(1), object(1)\n",
      "memory usage: 6.6+ KB\n"
     ]
    }
   ],
   "source": [
    "raining_trips.info()"
   ]
  },
  {
   "cell_type": "markdown",
   "metadata": {},
   "source": [
    "The `raining_trips` table contains 212 trips from the Loop to O'Hare International Airport that took place in rainy weather. There are no missing values in this table. A discussion on the distribution of data within this table will follow in the Hypothesis Testing section."
   ]
  },
  {
   "cell_type": "code",
   "execution_count": 35,
   "metadata": {},
   "outputs": [
    {
     "data": {
      "text/html": [
       "<div>\n",
       "<style scoped>\n",
       "    .dataframe tbody tr th:only-of-type {\n",
       "        vertical-align: middle;\n",
       "    }\n",
       "\n",
       "    .dataframe tbody tr th {\n",
       "        vertical-align: top;\n",
       "    }\n",
       "\n",
       "    .dataframe thead th {\n",
       "        text-align: right;\n",
       "    }\n",
       "</style>\n",
       "<table border=\"1\" class=\"dataframe\">\n",
       "  <thead>\n",
       "    <tr style=\"text-align: right;\">\n",
       "      <th></th>\n",
       "      <th>start_of_trip</th>\n",
       "      <th>duration_seconds</th>\n",
       "      <th>weather_category</th>\n",
       "    </tr>\n",
       "  </thead>\n",
       "  <tbody>\n",
       "    <tr>\n",
       "      <th>72</th>\n",
       "      <td>2017-11-04 00:00:00</td>\n",
       "      <td>1560.0</td>\n",
       "      <td>not raining</td>\n",
       "    </tr>\n",
       "    <tr>\n",
       "      <th>73</th>\n",
       "      <td>2017-11-04 01:00:00</td>\n",
       "      <td>0.0</td>\n",
       "      <td>not raining</td>\n",
       "    </tr>\n",
       "    <tr>\n",
       "      <th>74</th>\n",
       "      <td>2017-11-04 02:00:00</td>\n",
       "      <td>2956.0</td>\n",
       "      <td>not raining</td>\n",
       "    </tr>\n",
       "    <tr>\n",
       "      <th>76</th>\n",
       "      <td>2017-11-04 04:00:00</td>\n",
       "      <td>1333.0</td>\n",
       "      <td>not raining</td>\n",
       "    </tr>\n",
       "    <tr>\n",
       "      <th>76</th>\n",
       "      <td>2017-11-04 04:00:00</td>\n",
       "      <td>1440.0</td>\n",
       "      <td>not raining</td>\n",
       "    </tr>\n",
       "  </tbody>\n",
       "</table>\n",
       "</div>"
      ],
      "text/plain": [
       "         start_of_trip  duration_seconds weather_category\n",
       "72 2017-11-04 00:00:00            1560.0      not raining\n",
       "73 2017-11-04 01:00:00               0.0      not raining\n",
       "74 2017-11-04 02:00:00            2956.0      not raining\n",
       "76 2017-11-04 04:00:00            1333.0      not raining\n",
       "76 2017-11-04 04:00:00            1440.0      not raining"
      ]
     },
     "execution_count": 35,
     "metadata": {},
     "output_type": "execute_result"
    }
   ],
   "source": [
    "# # separate table for trips when NOT raining\n",
    "other_trips = trip_records[trip_records['weather_category'] == 'not raining']\n",
    "other_trips.head()"
   ]
  },
  {
   "cell_type": "code",
   "execution_count": 36,
   "metadata": {},
   "outputs": [
    {
     "name": "stdout",
     "output_type": "stream",
     "text": [
      "<class 'pandas.core.frame.DataFrame'>\n",
      "Int64Index: 856 entries, 72 to 599\n",
      "Data columns (total 3 columns):\n",
      " #   Column            Non-Null Count  Dtype         \n",
      "---  ------            --------------  -----         \n",
      " 0   start_of_trip     856 non-null    datetime64[ns]\n",
      " 1   duration_seconds  856 non-null    float64       \n",
      " 2   weather_category  856 non-null    object        \n",
      "dtypes: datetime64[ns](1), float64(1), object(1)\n",
      "memory usage: 26.8+ KB\n"
     ]
    }
   ],
   "source": [
    "other_trips.info()"
   ]
  },
  {
   "cell_type": "code",
   "execution_count": 34,
   "metadata": {},
   "outputs": [
    {
     "data": {
      "text/html": [
       "<div>\n",
       "<style scoped>\n",
       "    .dataframe tbody tr th:only-of-type {\n",
       "        vertical-align: middle;\n",
       "    }\n",
       "\n",
       "    .dataframe tbody tr th {\n",
       "        vertical-align: top;\n",
       "    }\n",
       "\n",
       "    .dataframe thead th {\n",
       "        text-align: right;\n",
       "    }\n",
       "</style>\n",
       "<table border=\"1\" class=\"dataframe\">\n",
       "  <thead>\n",
       "    <tr style=\"text-align: right;\">\n",
       "      <th></th>\n",
       "      <th>duration_seconds</th>\n",
       "    </tr>\n",
       "  </thead>\n",
       "  <tbody>\n",
       "    <tr>\n",
       "      <th>count</th>\n",
       "      <td>856.000000</td>\n",
       "    </tr>\n",
       "    <tr>\n",
       "      <th>mean</th>\n",
       "      <td>1965.364486</td>\n",
       "    </tr>\n",
       "    <tr>\n",
       "      <th>std</th>\n",
       "      <td>719.138004</td>\n",
       "    </tr>\n",
       "    <tr>\n",
       "      <th>min</th>\n",
       "      <td>0.000000</td>\n",
       "    </tr>\n",
       "    <tr>\n",
       "      <th>25%</th>\n",
       "      <td>1384.000000</td>\n",
       "    </tr>\n",
       "    <tr>\n",
       "      <th>50%</th>\n",
       "      <td>1800.000000</td>\n",
       "    </tr>\n",
       "    <tr>\n",
       "      <th>75%</th>\n",
       "      <td>2425.250000</td>\n",
       "    </tr>\n",
       "    <tr>\n",
       "      <th>max</th>\n",
       "      <td>7440.000000</td>\n",
       "    </tr>\n",
       "  </tbody>\n",
       "</table>\n",
       "</div>"
      ],
      "text/plain": [
       "       duration_seconds\n",
       "count        856.000000\n",
       "mean        1965.364486\n",
       "std          719.138004\n",
       "min            0.000000\n",
       "25%         1384.000000\n",
       "50%         1800.000000\n",
       "75%         2425.250000\n",
       "max         7440.000000"
      ]
     },
     "execution_count": 34,
     "metadata": {},
     "output_type": "execute_result"
    }
   ],
   "source": [
    "other_trips.describe()"
   ]
  },
  {
   "cell_type": "markdown",
   "metadata": {},
   "source": [
    "The `other_trips` table contains 856 trips from the Loop to O'Hare International Airport that took place during non-rainy weather. There are no missing values in this table; however, some trips show a duration of 0 seconds, likely indicating trips that were canceled on site. \n",
    "\n",
    "A discussion on the distribution within this table will be included in the Hypothesis Testing section. Nevertheless, rows with a 0 value in the `duration_seconds` column need to be reviewed and removed to avoid skewing the hypothesis test results."
   ]
  },
  {
   "cell_type": "code",
   "execution_count": 37,
   "metadata": {},
   "outputs": [
    {
     "name": "stdout",
     "output_type": "stream",
     "text": [
      "Number of trips with duration of 0 second:  6\n"
     ]
    }
   ],
   "source": [
    "# identify trips with duration 0 second\n",
    "count_of_zeros = (other_trips['duration_seconds'] == 0).sum()\n",
    "print(f'Number of trips with duration of 0 second: ', count_of_zeros)"
   ]
  },
  {
   "cell_type": "markdown",
   "metadata": {},
   "source": [
    "There are 6 canceled trips, accounting for less than 1% of the total recorded trips. These 6 rows will therefore be removed to prevent any impact on the significance testing phase of the hypothesis testing."
   ]
  },
  {
   "cell_type": "code",
   "execution_count": 38,
   "metadata": {},
   "outputs": [
    {
     "data": {
      "text/html": [
       "<div>\n",
       "<style scoped>\n",
       "    .dataframe tbody tr th:only-of-type {\n",
       "        vertical-align: middle;\n",
       "    }\n",
       "\n",
       "    .dataframe tbody tr th {\n",
       "        vertical-align: top;\n",
       "    }\n",
       "\n",
       "    .dataframe thead th {\n",
       "        text-align: right;\n",
       "    }\n",
       "</style>\n",
       "<table border=\"1\" class=\"dataframe\">\n",
       "  <thead>\n",
       "    <tr style=\"text-align: right;\">\n",
       "      <th></th>\n",
       "      <th>duration_seconds</th>\n",
       "    </tr>\n",
       "  </thead>\n",
       "  <tbody>\n",
       "    <tr>\n",
       "      <th>count</th>\n",
       "      <td>850.000000</td>\n",
       "    </tr>\n",
       "    <tr>\n",
       "      <th>mean</th>\n",
       "      <td>1979.237647</td>\n",
       "    </tr>\n",
       "    <tr>\n",
       "      <th>std</th>\n",
       "      <td>702.370046</td>\n",
       "    </tr>\n",
       "    <tr>\n",
       "      <th>min</th>\n",
       "      <td>60.000000</td>\n",
       "    </tr>\n",
       "    <tr>\n",
       "      <th>25%</th>\n",
       "      <td>1392.000000</td>\n",
       "    </tr>\n",
       "    <tr>\n",
       "      <th>50%</th>\n",
       "      <td>1830.000000</td>\n",
       "    </tr>\n",
       "    <tr>\n",
       "      <th>75%</th>\n",
       "      <td>2426.750000</td>\n",
       "    </tr>\n",
       "    <tr>\n",
       "      <th>max</th>\n",
       "      <td>7440.000000</td>\n",
       "    </tr>\n",
       "  </tbody>\n",
       "</table>\n",
       "</div>"
      ],
      "text/plain": [
       "       duration_seconds\n",
       "count        850.000000\n",
       "mean        1979.237647\n",
       "std          702.370046\n",
       "min           60.000000\n",
       "25%         1392.000000\n",
       "50%         1830.000000\n",
       "75%         2426.750000\n",
       "max         7440.000000"
      ]
     },
     "execution_count": 38,
     "metadata": {},
     "output_type": "execute_result"
    }
   ],
   "source": [
    "# drop trips with duration of 0 second\n",
    "other_trips = other_trips[other_trips['duration_seconds'] != 0]\n",
    "other_trips.describe()"
   ]
  },
  {
   "cell_type": "markdown",
   "metadata": {},
   "source": [
    "All rows with a 0 value in `duration_seconds` have been removed from the `other_trips` table. This table is now ready for analysis and hypothesis testing."
   ]
  },
  {
   "cell_type": "markdown",
   "metadata": {},
   "source": [
    "[Back to Data Preparation](#Data-Preparation)"
   ]
  },
  {
   "cell_type": "markdown",
   "metadata": {},
   "source": [
    "[Back to Contents](#contents)"
   ]
  },
  {
   "cell_type": "markdown",
   "metadata": {},
   "source": [
    "## Analysis"
   ]
  },
  {
   "cell_type": "markdown",
   "metadata": {},
   "source": [
    "The data analysis phase will examine the popularity of taxi companies and drop-off locations, with popularity determined based on the highest total or average number of trips recorded over the specified period."
   ]
  },
  {
   "cell_type": "markdown",
   "metadata": {},
   "source": [
    "### Popular Destinations"
   ]
  },
  {
   "cell_type": "markdown",
   "metadata": {},
   "source": [
    "This section focuses on the `locations` table, which contains information on drop-off locations and the average number of trips ending at each location in November 2017. A bar chart will be used to display the popularity rankings of the **top 10 locations with the highest average trip count**."
   ]
  },
  {
   "cell_type": "code",
   "execution_count": 39,
   "metadata": {},
   "outputs": [
    {
     "data": {
      "text/html": [
       "<div>\n",
       "<style scoped>\n",
       "    .dataframe tbody tr th:only-of-type {\n",
       "        vertical-align: middle;\n",
       "    }\n",
       "\n",
       "    .dataframe tbody tr th {\n",
       "        vertical-align: top;\n",
       "    }\n",
       "\n",
       "    .dataframe thead th {\n",
       "        text-align: right;\n",
       "    }\n",
       "</style>\n",
       "<table border=\"1\" class=\"dataframe\">\n",
       "  <thead>\n",
       "    <tr style=\"text-align: right;\">\n",
       "      <th></th>\n",
       "      <th>dropoff_location_name</th>\n",
       "      <th>average_trips</th>\n",
       "    </tr>\n",
       "  </thead>\n",
       "  <tbody>\n",
       "    <tr>\n",
       "      <th>0</th>\n",
       "      <td>Loop</td>\n",
       "      <td>10727.466667</td>\n",
       "    </tr>\n",
       "    <tr>\n",
       "      <th>1</th>\n",
       "      <td>River North</td>\n",
       "      <td>9523.666667</td>\n",
       "    </tr>\n",
       "    <tr>\n",
       "      <th>2</th>\n",
       "      <td>Streeterville</td>\n",
       "      <td>6664.666667</td>\n",
       "    </tr>\n",
       "    <tr>\n",
       "      <th>3</th>\n",
       "      <td>West Loop</td>\n",
       "      <td>5163.666667</td>\n",
       "    </tr>\n",
       "    <tr>\n",
       "      <th>4</th>\n",
       "      <td>O'Hare</td>\n",
       "      <td>2546.900000</td>\n",
       "    </tr>\n",
       "    <tr>\n",
       "      <th>5</th>\n",
       "      <td>Lake View</td>\n",
       "      <td>2420.966667</td>\n",
       "    </tr>\n",
       "    <tr>\n",
       "      <th>6</th>\n",
       "      <td>Grant Park</td>\n",
       "      <td>2068.533333</td>\n",
       "    </tr>\n",
       "    <tr>\n",
       "      <th>7</th>\n",
       "      <td>Museum Campus</td>\n",
       "      <td>1510.000000</td>\n",
       "    </tr>\n",
       "    <tr>\n",
       "      <th>8</th>\n",
       "      <td>Gold Coast</td>\n",
       "      <td>1364.233333</td>\n",
       "    </tr>\n",
       "    <tr>\n",
       "      <th>9</th>\n",
       "      <td>Sheffield &amp; DePaul</td>\n",
       "      <td>1259.766667</td>\n",
       "    </tr>\n",
       "  </tbody>\n",
       "</table>\n",
       "</div>"
      ],
      "text/plain": [
       "  dropoff_location_name  average_trips\n",
       "0                  Loop   10727.466667\n",
       "1           River North    9523.666667\n",
       "2         Streeterville    6664.666667\n",
       "3             West Loop    5163.666667\n",
       "4                O'Hare    2546.900000\n",
       "5             Lake View    2420.966667\n",
       "6            Grant Park    2068.533333\n",
       "7         Museum Campus    1510.000000\n",
       "8            Gold Coast    1364.233333\n",
       "9    Sheffield & DePaul    1259.766667"
      ]
     },
     "execution_count": 39,
     "metadata": {},
     "output_type": "execute_result"
    }
   ],
   "source": [
    "# sort table 'locations' based on column 'average_trips' in descending order\n",
    "locations = locations.sort_values(by='average_trips', ascending=False)\n",
    "locations.head(10)"
   ]
  },
  {
   "cell_type": "code",
   "execution_count": 41,
   "metadata": {},
   "outputs": [
    {
     "data": {
      "image/png": "[encoded data removed]",
      "text/plain": [
       "<Figure size 1000x600 with 1 Axes>"
      ]
     },
     "metadata": {},
     "output_type": "display_data"
    }
   ],
   "source": [
    "# bar diagram of top 10 locations\n",
    "top_locations = locations[:10]\n",
    "\n",
    "# Specify the data and labels\n",
    "x = top_locations['dropoff_location_name']\n",
    "y = top_locations['average_trips']\n",
    "\n",
    "# Create the bar plot\n",
    "plt.figure(figsize=(10, 6))\n",
    "plt.bar(x, y)\n",
    "\n",
    "# Set the title and labels\n",
    "plt.title('Top 10 Drop-off Locations November 2017')\n",
    "plt.xlabel('Drop-off Location')\n",
    "plt.ylabel('Average Trip Count in November 2017')\n",
    "\n",
    "# Show the plot\n",
    "plt.xticks(rotation=90)  # Rotate the X-axis labels for better visibility\n",
    "plt.tight_layout()\n",
    "plt.show()"
   ]
  },
  {
   "cell_type": "markdown",
   "metadata": {},
   "source": [
    "The bar chart above shows that the **Loop** was the most popular drop-off location in November 2017. Loop is a central business district in Chicago, so consistently high traffic to this area is expected. Another noteworthy location is O'Hare, home to a major international airport. **Typically, airports in major cities see high traffic. However, this trend does not apply to O'Hare in this case.** It is assumed that the city offers ample transportation alternatives that are more popular than air travel, resulting in significantly lower traffic to O'Hare compared to the top four other locations."
   ]
  },
  {
   "cell_type": "markdown",
   "metadata": {},
   "source": [
    "[Back to Analysis](#Analysis)"
   ]
  },
  {
   "cell_type": "markdown",
   "metadata": {},
   "source": [
    "### Popular Companies"
   ]
  },
  {
   "cell_type": "markdown",
   "metadata": {},
   "source": [
    "This section analyzes the `companies` table, which contains information on taxi service providers and the number of trips recorded on November 15-16, 2017. A bar chart will display the popularity rankings of the top 10 companies based on the highest trip counts."
   ]
  },
  {
   "cell_type": "code",
   "execution_count": 42,
   "metadata": {},
   "outputs": [
    {
     "data": {
      "text/html": [
       "<div>\n",
       "<style scoped>\n",
       "    .dataframe tbody tr th:only-of-type {\n",
       "        vertical-align: middle;\n",
       "    }\n",
       "\n",
       "    .dataframe tbody tr th {\n",
       "        vertical-align: top;\n",
       "    }\n",
       "\n",
       "    .dataframe thead th {\n",
       "        text-align: right;\n",
       "    }\n",
       "</style>\n",
       "<table border=\"1\" class=\"dataframe\">\n",
       "  <thead>\n",
       "    <tr style=\"text-align: right;\">\n",
       "      <th></th>\n",
       "      <th>company_name</th>\n",
       "      <th>trips_amount</th>\n",
       "    </tr>\n",
       "  </thead>\n",
       "  <tbody>\n",
       "    <tr>\n",
       "      <th>0</th>\n",
       "      <td>Flash Cab</td>\n",
       "      <td>19558</td>\n",
       "    </tr>\n",
       "    <tr>\n",
       "      <th>1</th>\n",
       "      <td>Taxi Affiliation Services</td>\n",
       "      <td>11422</td>\n",
       "    </tr>\n",
       "    <tr>\n",
       "      <th>2</th>\n",
       "      <td>Medallion Leasing</td>\n",
       "      <td>10367</td>\n",
       "    </tr>\n",
       "    <tr>\n",
       "      <th>3</th>\n",
       "      <td>Yellow Cab</td>\n",
       "      <td>9888</td>\n",
       "    </tr>\n",
       "    <tr>\n",
       "      <th>4</th>\n",
       "      <td>Taxi Affiliation Service Yellow</td>\n",
       "      <td>9299</td>\n",
       "    </tr>\n",
       "    <tr>\n",
       "      <th>5</th>\n",
       "      <td>Chicago Carriage Cab Corp</td>\n",
       "      <td>9181</td>\n",
       "    </tr>\n",
       "    <tr>\n",
       "      <th>6</th>\n",
       "      <td>City Service</td>\n",
       "      <td>8448</td>\n",
       "    </tr>\n",
       "    <tr>\n",
       "      <th>7</th>\n",
       "      <td>Sun Taxi</td>\n",
       "      <td>7701</td>\n",
       "    </tr>\n",
       "    <tr>\n",
       "      <th>8</th>\n",
       "      <td>Star North Management LLC</td>\n",
       "      <td>7455</td>\n",
       "    </tr>\n",
       "    <tr>\n",
       "      <th>9</th>\n",
       "      <td>Blue Ribbon Taxi Association Inc.</td>\n",
       "      <td>5953</td>\n",
       "    </tr>\n",
       "  </tbody>\n",
       "</table>\n",
       "</div>"
      ],
      "text/plain": [
       "                        company_name  trips_amount\n",
       "0                          Flash Cab         19558\n",
       "1          Taxi Affiliation Services         11422\n",
       "2                  Medallion Leasing         10367\n",
       "3                         Yellow Cab          9888\n",
       "4    Taxi Affiliation Service Yellow          9299\n",
       "5          Chicago Carriage Cab Corp          9181\n",
       "6                       City Service          8448\n",
       "7                           Sun Taxi          7701\n",
       "8          Star North Management LLC          7455\n",
       "9  Blue Ribbon Taxi Association Inc.          5953"
      ]
     },
     "execution_count": 42,
     "metadata": {},
     "output_type": "execute_result"
    }
   ],
   "source": [
    "# sort table 'companies' based on 'trips_amount'\n",
    "companies = companies.sort_values(by='trips_amount', ascending=False) #in descending order\n",
    "companies.head(10)"
   ]
  },
  {
   "cell_type": "code",
   "execution_count": 43,
   "metadata": {},
   "outputs": [
    {
     "data": {
      "image/png": "[encoded data removed]",
      "text/plain": [
       "<Figure size 1000x600 with 1 Axes>"
      ]
     },
     "metadata": {},
     "output_type": "display_data"
    }
   ],
   "source": [
    "# bar diagram of top 10 companies\n",
    "top_companies = companies[:10]\n",
    "\n",
    "x = top_companies['company_name']\n",
    "y = top_companies['trips_amount']\n",
    "\n",
    "plt.figure(figsize=(10, 6))\n",
    "plt.bar(x, y, color='orange')\n",
    "\n",
    "plt.title('Top 10 Taxi Companies in 15-16 November 2017')\n",
    "plt.xlabel('Company')\n",
    "plt.ylabel('Trip Counts on 15-16 November 2017')\n",
    "\n",
    "plt.xticks(rotation=90) \n",
    "plt.tight_layout()\n",
    "plt.show()"
   ]
  },
  {
   "cell_type": "markdown",
   "metadata": {},
   "source": [
    "he bar chart above illustrates the ranking of taxi companies according to the highest number of trips recorded on November 15-16, 2017. \n",
    "\n",
    "A notable finding is the significant gap between the first-ranked company (Flash Cab) and the second-ranked company (Taxi Affiliation Services). However, a similar pattern is not observed between the second and third-ranked companies, and so on down to the last ranked company. This indicates that **during this period, \"Flash Cab\" dominated a substantial portion of consumer demand**. \n",
    "\n",
    "Further investigation is needed into external factors that may have influenced this demand on November 15-16, 2017 (such as weather conditions), as well as Flash Cab's popularity ranking on other days."
   ]
  },
  {
   "cell_type": "markdown",
   "metadata": {},
   "source": [
    "[Back to Analysis](#Analysis)"
   ]
  },
  {
   "cell_type": "markdown",
   "metadata": {},
   "source": [
    "[Back to Contents](#contents)"
   ]
  },
  {
   "cell_type": "markdown",
   "metadata": {},
   "source": [
    "## Hypothesis Testing"
   ]
  },
  {
   "cell_type": "markdown",
   "metadata": {},
   "source": [
    "This section focuses on testing the hypothesis regarding the significant differences between trip durations during rainy weather and those during non-rainy weather. \n",
    "\n",
    "**The preliminary assumption is that trip durations during rain are longer compared to those in clear weather**. This difference will first be examined based on the distribution descriptions of each dataset. To confirm whether the difference is significant, normality tests for each dataset's distribution, variance homogeneity tests, and ultimately significance tests will be conducted."
   ]
  },
  {
   "cell_type": "markdown",
   "metadata": {},
   "source": [
    "### Test of Normality"
   ]
  },
  {
   "cell_type": "markdown",
   "metadata": {},
   "source": [
    "There are two tables containing records of trips from Loop to O'Hare International Airport during November 2017. One table (`raining_trips`) contains records of trips made during rainy weather, while the other (`other_trips`) includes records of trips made during clear weather. The following is an analysis of the distribution characteristics of each table."
   ]
  },
  {
   "cell_type": "code",
   "execution_count": 38,
   "metadata": {},
   "outputs": [
    {
     "data": {
      "text/html": [
       "<div>\n",
       "<style scoped>\n",
       "    .dataframe tbody tr th:only-of-type {\n",
       "        vertical-align: middle;\n",
       "    }\n",
       "\n",
       "    .dataframe tbody tr th {\n",
       "        vertical-align: top;\n",
       "    }\n",
       "\n",
       "    .dataframe thead th {\n",
       "        text-align: right;\n",
       "    }\n",
       "</style>\n",
       "<table border=\"1\" class=\"dataframe\">\n",
       "  <thead>\n",
       "    <tr style=\"text-align: right;\">\n",
       "      <th></th>\n",
       "      <th>duration_seconds</th>\n",
       "    </tr>\n",
       "  </thead>\n",
       "  <tbody>\n",
       "    <tr>\n",
       "      <th>count</th>\n",
       "      <td>212.000000</td>\n",
       "    </tr>\n",
       "    <tr>\n",
       "      <th>mean</th>\n",
       "      <td>2501.212264</td>\n",
       "    </tr>\n",
       "    <tr>\n",
       "      <th>std</th>\n",
       "      <td>816.822161</td>\n",
       "    </tr>\n",
       "    <tr>\n",
       "      <th>min</th>\n",
       "      <td>480.000000</td>\n",
       "    </tr>\n",
       "    <tr>\n",
       "      <th>25%</th>\n",
       "      <td>1669.500000</td>\n",
       "    </tr>\n",
       "    <tr>\n",
       "      <th>50%</th>\n",
       "      <td>2670.000000</td>\n",
       "    </tr>\n",
       "    <tr>\n",
       "      <th>75%</th>\n",
       "      <td>3122.500000</td>\n",
       "    </tr>\n",
       "    <tr>\n",
       "      <th>max</th>\n",
       "      <td>4980.000000</td>\n",
       "    </tr>\n",
       "  </tbody>\n",
       "</table>\n",
       "</div>"
      ],
      "text/plain": [
       "       duration_seconds\n",
       "count        212.000000\n",
       "mean        2501.212264\n",
       "std          816.822161\n",
       "min          480.000000\n",
       "25%         1669.500000\n",
       "50%         2670.000000\n",
       "75%         3122.500000\n",
       "max         4980.000000"
      ]
     },
     "execution_count": 38,
     "metadata": {},
     "output_type": "execute_result"
    }
   ],
   "source": [
    "# description of table `raining_trips`\n",
    "raining_trips.describe()"
   ]
  },
  {
   "cell_type": "markdown",
   "metadata": {},
   "source": [
    "A general description of the data distribution in raining_trips indicates that the average trip duration during rainy weather is approximately **41 minutes (2501.2 seconds)**. The shortest trip recorded is 8 minutes, while the longest is 83 minutes. \n",
    "\n",
    "There is a wide range between the minimum and maximum values. The standard deviation is also relatively large, measuring 816 seconds (about 13.6 minutes). In this section, a Shapiro-Wilk normality test will be performed to determine the appropriate statistical methods for the hypothesis testing."
   ]
  },
  {
   "cell_type": "code",
   "execution_count": 44,
   "metadata": {},
   "outputs": [],
   "source": [
    "# function for normality test\n",
    "def normality_test(series):\n",
    "    p_value_shapiro = shapiro(series).pvalue\n",
    "    print(f'P-Value: {p_value_shapiro}')\n",
    "    print(f'Alpha  : {alpha}')\n",
    "    if p_value_shapiro >= alpha:\n",
    "        print('Fail to reject H0: The data distribution IS normal')\n",
    "    else:\n",
    "        print('H0 is rejected: The data distribution is NOT normal')"
   ]
  },
  {
   "cell_type": "code",
   "execution_count": 45,
   "metadata": {},
   "outputs": [
    {
     "name": "stdout",
     "output_type": "stream",
     "text": [
      "P-Value: 2.8165629828436067e-06\n",
      "Alpha  : 0.05\n",
      "H0 is rejected: The data distribution is NOT normal\n"
     ]
    }
   ],
   "source": [
    "# apply function to test the normality of table 'raining_trips'\n",
    "alpha = 0.05\n",
    "normality_test(raining_trips['duration_seconds'])"
   ]
  },
  {
   "cell_type": "markdown",
   "metadata": {},
   "source": [
    "The normality test indicates that the `raining_trips` dataset **does not follow a normal distribution**. The next step is to conduct a normality test for the `other_trips` dataset."
   ]
  },
  {
   "cell_type": "code",
   "execution_count": 41,
   "metadata": {},
   "outputs": [
    {
     "data": {
      "text/html": [
       "<div>\n",
       "<style scoped>\n",
       "    .dataframe tbody tr th:only-of-type {\n",
       "        vertical-align: middle;\n",
       "    }\n",
       "\n",
       "    .dataframe tbody tr th {\n",
       "        vertical-align: top;\n",
       "    }\n",
       "\n",
       "    .dataframe thead th {\n",
       "        text-align: right;\n",
       "    }\n",
       "</style>\n",
       "<table border=\"1\" class=\"dataframe\">\n",
       "  <thead>\n",
       "    <tr style=\"text-align: right;\">\n",
       "      <th></th>\n",
       "      <th>duration_seconds</th>\n",
       "    </tr>\n",
       "  </thead>\n",
       "  <tbody>\n",
       "    <tr>\n",
       "      <th>count</th>\n",
       "      <td>850.000000</td>\n",
       "    </tr>\n",
       "    <tr>\n",
       "      <th>mean</th>\n",
       "      <td>1979.237647</td>\n",
       "    </tr>\n",
       "    <tr>\n",
       "      <th>std</th>\n",
       "      <td>702.370046</td>\n",
       "    </tr>\n",
       "    <tr>\n",
       "      <th>min</th>\n",
       "      <td>60.000000</td>\n",
       "    </tr>\n",
       "    <tr>\n",
       "      <th>25%</th>\n",
       "      <td>1392.000000</td>\n",
       "    </tr>\n",
       "    <tr>\n",
       "      <th>50%</th>\n",
       "      <td>1830.000000</td>\n",
       "    </tr>\n",
       "    <tr>\n",
       "      <th>75%</th>\n",
       "      <td>2426.750000</td>\n",
       "    </tr>\n",
       "    <tr>\n",
       "      <th>max</th>\n",
       "      <td>7440.000000</td>\n",
       "    </tr>\n",
       "  </tbody>\n",
       "</table>\n",
       "</div>"
      ],
      "text/plain": [
       "       duration_seconds\n",
       "count        850.000000\n",
       "mean        1979.237647\n",
       "std          702.370046\n",
       "min           60.000000\n",
       "25%         1392.000000\n",
       "50%         1830.000000\n",
       "75%         2426.750000\n",
       "max         7440.000000"
      ]
     },
     "execution_count": 41,
     "metadata": {},
     "output_type": "execute_result"
    }
   ],
   "source": [
    "# description of table other_trips\n",
    "other_trips.describe()"
   ]
  },
  {
   "cell_type": "markdown",
   "metadata": {},
   "source": [
    "A general description of the data distribution in `other_trips` reveals that the average trip duration during clear weather is approximately **32 minutes (1979 seconds)**. In line with the preliminary assumption, this average is lower compared to the average trip duration during rainy weather. \n",
    "\n",
    "The shortest trip recorded is 1 minute, which, as anticipated, is lower than the shortest trip duration during rainy conditions. However, the longest trip duration is 124 minutes, exceeding the longest trip duration observed during rain. \n",
    "\n",
    "There is a wide range between the minimum and maximum values. The standard deviation is also relatively large, at 702 seconds (approximately 11.7 minutes). Next, a Shapiro-Wilk normality test will be conducted to determine the appropriate statistical methods for hypothesis testing."
   ]
  },
  {
   "cell_type": "code",
   "execution_count": 46,
   "metadata": {},
   "outputs": [
    {
     "name": "stdout",
     "output_type": "stream",
     "text": [
      "P-Value: 6.838520013668789e-24\n",
      "Alpha  : 0.05\n",
      "H0 is rejected: The data distribution is NOT normal\n"
     ]
    }
   ],
   "source": [
    "# apply function to test the normality of table 'other_trips'\n",
    "alpha = 0.05\n",
    "normality_test(other_trips['duration_seconds'])"
   ]
  },
  {
   "cell_type": "markdown",
   "metadata": {},
   "source": [
    "The normality test indicates that the `other_trips` dataset does not follow a normal distribution. The next step is to conduct a variance homogeneity test for both datasets to determine the statistical methods to be used in hypothesis testing."
   ]
  },
  {
   "cell_type": "markdown",
   "metadata": {},
   "source": [
    "### Test of Variance Homogenity"
   ]
  },
  {
   "cell_type": "code",
   "execution_count": 47,
   "metadata": {},
   "outputs": [
    {
     "name": "stdout",
     "output_type": "stream",
     "text": [
      "Trip duration on rainy weather:\n",
      "Standard deviation: 816.8\n",
      "Variance: 667198.4\n",
      "\n",
      "Trip duration on non-rainy weather:\n",
      "Standard deviation: 702.4\n",
      "Variance: 493323.7\n",
      "\n"
     ]
    }
   ],
   "source": [
    "# calculate the variance and standard deviation of trip duration during rainy weather\n",
    "raining_std = round(raining_trips['duration_seconds'].std(), 1)\n",
    "raining_var = round(raining_trips['duration_seconds'].var(), 1)\n",
    "print('Trip duration on rainy weather:')\n",
    "print(f'Standard deviation: {raining_std}')\n",
    "print(f'Variance: {raining_var}')\n",
    "print()\n",
    "\n",
    "# calculate the variance and standard deviation of trip duration during non-rainy weather\n",
    "other_std = round(other_trips['duration_seconds'].std(), 1)\n",
    "other_var = round(other_trips['duration_seconds'].var(), 1)\n",
    "print('Trip duration on non-rainy weather:')\n",
    "print(f'Standard deviation: {other_std}')\n",
    "print(f'Variance: {other_var}')\n",
    "print()"
   ]
  },
  {
   "cell_type": "markdown",
   "metadata": {},
   "source": [
    "There is a significant difference in variance between the two datasets. This indicates that the datasets do not meet the requirement for homogeneity of variance. Considering the non-normal distribution of both datasets and the lack of homogeneity in variance, the statistical test chosen for hypothesis testing is the **Mann-Whitney U test**."
   ]
  },
  {
   "cell_type": "markdown",
   "metadata": {},
   "source": [
    "### Significance of Difference"
   ]
  },
  {
   "cell_type": "markdown",
   "metadata": {},
   "source": [
    "The hypotheses to be tested are as follows:\n",
    "\n",
    "* **H0**: There is NO significant difference between the trip duration during rainy weather and the trip duration during non-rainy weather.    \n",
    "\n",
    "* **H1**: There IS a significant difference between the trip duration during rainy weather and the trip duration during non-rainy weather.\n",
    "\n",
    "Hypothesis testing will be conducted using the **Mann-Whitney U test** for two independent datasets with non-normal distribution and heterogeneous variance, with an **alpha value of 0.05**."
   ]
  },
  {
   "cell_type": "code",
   "execution_count": 48,
   "metadata": {},
   "outputs": [
    {
     "name": "stdout",
     "output_type": "stream",
     "text": [
      "Alpha  : 0.05\n",
      "P-Value: 4.038109622803852e-19\n",
      "H0 is rejected: There IS a significant difference between the trip duration during rainy weather and the trip duration during non-rainy weather.\n"
     ]
    }
   ],
   "source": [
    "# test hypothesis\n",
    "alpha = 0.05\n",
    "p_value = mannwhitneyu(raining_trips['duration_seconds'], other_trips['duration_seconds'], nan_policy='omit').pvalue\n",
    "print(f'Alpha  : {alpha}')\n",
    "print(f'P-Value: {p_value}')\n",
    "if p_value >= alpha:\n",
    "    print('Fail to reject H0: There is NO significant difference between the trip duration during rainy weather and the trip duration during non-rainy weather.')\n",
    "else:\n",
    "    print('H0 is rejected: There IS a significant difference between the trip duration during rainy weather and the trip duration during non-rainy weather.')"
   ]
  },
  {
   "cell_type": "markdown",
   "metadata": {},
   "source": [
    "The Mann-Whitney U hypothesis test with an alpha of 0.05 resulted in the rejection of the null hypothesis and the acceptance of the alternative hypothesis. \n",
    "\n",
    "For trips from Loop to O'Hare International Airport, **there is a significant difference between the trip duration during rainy weather and the trip duration during non-rainy weather.**"
   ]
  },
  {
   "cell_type": "markdown",
   "metadata": {},
   "source": [
    "[Back to Hypothesis Testing](#Hypothesis-Testing)"
   ]
  },
  {
   "cell_type": "markdown",
   "metadata": {},
   "source": [
    "[Back to Contents](#contents)"
   ]
  },
  {
   "cell_type": "markdown",
   "metadata": {},
   "source": [
    "## Findings and Conclusions"
   ]
  },
  {
   "cell_type": "markdown",
   "metadata": {},
   "source": [
    "An analysis was conducted to examine the behavior of ride-hailing users in the city of Chicago. The purpose of the analysis is to identify the most popular drop-off locations, company preferences among users, and ride-hailing usage patterns based on weather conditions.\n",
    "\n",
    "The data utilized in this analysis was sourced from both a public website and a company database. The weather data, capturing daily records for November 2017, was obtained from the website. From the company database, data was gathered on competitor companies (including trip volumes), drop-off locations (along with average trip counts), and trip duration records for the Loop–O'Hare route during November 2017.\n",
    "\n",
    "During the Data Preparation phase, several data-cleaning and transformation procedures were applied to the raw data. These included renaming columns, identifying and removing duplicate entries, and adjusting data types as necessary.\n",
    "\n",
    "Data transformation involved categorizing weather descriptions in the `weather_records` table into two classifications: \"raining\" and \"not raining\". Additionally, in the Loop–O'Hare trip table (`airport_trips`), the table was simplified to include only the trip date, time, and duration in seconds. The final transformation step was the integration of the weather and trip tables into a unified table, `trip_records`, with the trip date and time serving as the index."
   ]
  },
  {
   "cell_type": "markdown",
   "metadata": {},
   "source": [
    "<span style=\"font-size: 16px; font-weight: bold;\">Findings</span>"
   ]
  },
  {
   "cell_type": "markdown",
   "metadata": {},
   "source": [
    "During the Data Analysis phase, bar charts were generated to illustrate the top 10 destinations and the top 10 taxi companies by trip volume. The findings are summarized as follows:\n",
    "\n",
    "- In November 2017, the **Loop** area recorded the highest frequency of drop-offs, followed by **River North, Streeterville, West Loop**, and **O’Hare**. The prominence of Loop is likely influenced by its status as the central business district of Chicago. River North and West Loop serve as popular recreational areas, while Streeterville is a major residential district, collectively explaining the elevated traffic to these destinations.    \n",
    "\n",
    "\n",
    "- A particularly interesting observation is the ranking and trip volume to O’Hare, the international airport. While airports typically exhibit high trip frequencies—often surpassing other destinations within a city—this pattern was not observed at O’Hare. This suggests **a possible preference among Chicago residents for alternative transportation modes to the airport**, which may contribute to the comparatively lower volume of ride-hailing trips to O’Hare.    \n",
    "\n",
    "\n",
    "- In terms of ride-hailing company popularity, **Flash Cab** was the dominant provider, logging nearly twice the trip volume of its closest competitor, Taxi Affiliation Services. Data collection occurred over two days with predominantly clear weather, indicating that under typical conditions, Flash Cab is the preferred choice among consumers. **Further investigation is warranted** to deepen the understanding of brand popularity, particularly by **examining data from rainy days** to determine if similar trends in company preference persist under adverse weather conditions.    \n",
    "\n",
    "\n",
    "- In the Hypothesis Testing phase, a Mann-Whitney U test was conducted at a 0.05 alpha level to evaluate the significance of differences in trip duration from Loop to O’Hare between rainy and clear conditions. The significance test results led to the rejection of the null hypothesis, demonstrating **a statistically significant difference in trip duration under rainy versus clear weather conditions**.    "
   ]
  },
  {
   "cell_type": "markdown",
   "metadata": {},
   "source": [
    "<span id='contents' style=\"font-size: 16px; font-weight: bold;\">Conclusions</span>"
   ]
  },
  {
   "cell_type": "markdown",
   "metadata": {},
   "source": [
    "The results of the hypothesis test offer a basis for further exploration, specifically in evaluating customer satisfaction with ride-hailing fares. Trips to the airport are frequently associated with a high sense of urgency, while weather remains an external factor beyond the company’s control. A targeted customer satisfaction analysis could reveal valuable insights into areas where the company can maintain or improve customer satisfaction levels, thus enhancing the overall user experience."
   ]
  },
  {
   "cell_type": "markdown",
   "metadata": {},
   "source": [
    "[Back to Contents](#contents)"
   ]
  }
 ],
 "metadata": {
  "ExecuteTimeLog": [
   {
    "duration": 2703,
    "start_time": "2024-11-04T03:43:11.538Z"
   },
   {
    "duration": 451,
    "start_time": "2024-11-04T03:43:14.243Z"
   },
   {
    "duration": 18,
    "start_time": "2024-11-04T03:43:14.696Z"
   },
   {
    "duration": 10,
    "start_time": "2024-11-04T03:43:14.717Z"
   },
   {
    "duration": 9,
    "start_time": "2024-11-04T03:43:16.841Z"
   },
   {
    "duration": 5,
    "start_time": "2024-11-04T03:43:25.686Z"
   },
   {
    "duration": 12,
    "start_time": "2024-11-04T03:43:31.668Z"
   },
   {
    "duration": 10,
    "start_time": "2024-11-04T03:43:33.419Z"
   },
   {
    "duration": 4,
    "start_time": "2024-11-04T03:43:34.639Z"
   },
   {
    "duration": 13,
    "start_time": "2024-11-04T03:43:41.245Z"
   },
   {
    "duration": 8,
    "start_time": "2024-11-04T03:43:45.996Z"
   },
   {
    "duration": 4,
    "start_time": "2024-11-04T03:43:46.303Z"
   },
   {
    "duration": 16,
    "start_time": "2024-11-04T03:44:59.482Z"
   },
   {
    "duration": 9,
    "start_time": "2024-11-04T03:47:10.479Z"
   },
   {
    "duration": 4,
    "start_time": "2024-11-04T03:47:11.017Z"
   },
   {
    "duration": 7,
    "start_time": "2024-11-04T03:47:59.664Z"
   },
   {
    "duration": 11,
    "start_time": "2024-11-04T03:53:02.044Z"
   },
   {
    "duration": 5,
    "start_time": "2024-11-04T03:53:03.946Z"
   },
   {
    "duration": 10,
    "start_time": "2024-11-04T03:53:05.741Z"
   },
   {
    "duration": 7,
    "start_time": "2024-11-04T03:54:16.041Z"
   },
   {
    "duration": 9,
    "start_time": "2024-11-04T03:55:02.287Z"
   },
   {
    "duration": 8,
    "start_time": "2024-11-04T03:55:05.964Z"
   },
   {
    "duration": 9,
    "start_time": "2024-11-04T03:55:35.754Z"
   },
   {
    "duration": 7,
    "start_time": "2024-11-04T03:59:11.365Z"
   },
   {
    "duration": 7,
    "start_time": "2024-11-04T04:00:47.977Z"
   },
   {
    "duration": 223,
    "start_time": "2024-11-04T04:03:51.785Z"
   },
   {
    "duration": 15,
    "start_time": "2024-11-04T04:04:01.965Z"
   },
   {
    "duration": 10,
    "start_time": "2024-11-04T04:04:06.321Z"
   },
   {
    "duration": 10,
    "start_time": "2024-11-04T04:04:09.219Z"
   },
   {
    "duration": 8,
    "start_time": "2024-11-04T04:04:13.025Z"
   },
   {
    "duration": 11,
    "start_time": "2024-11-04T04:04:14.708Z"
   },
   {
    "duration": 7,
    "start_time": "2024-11-04T04:04:40.722Z"
   },
   {
    "duration": 9,
    "start_time": "2024-11-04T04:04:41.894Z"
   },
   {
    "duration": 10,
    "start_time": "2024-11-04T04:04:43.223Z"
   },
   {
    "duration": 8,
    "start_time": "2024-11-04T04:05:50.883Z"
   },
   {
    "duration": 9,
    "start_time": "2024-11-04T04:05:51.411Z"
   },
   {
    "duration": 13,
    "start_time": "2024-11-04T04:06:34.750Z"
   },
   {
    "duration": 11,
    "start_time": "2024-11-04T04:06:53.722Z"
   },
   {
    "duration": 8,
    "start_time": "2024-11-04T04:09:46.778Z"
   },
   {
    "duration": 286,
    "start_time": "2024-11-04T04:09:47.964Z"
   },
   {
    "duration": 260,
    "start_time": "2024-11-04T04:10:37.572Z"
   },
   {
    "duration": 7,
    "start_time": "2024-11-04T04:15:12.930Z"
   },
   {
    "duration": 359,
    "start_time": "2024-11-04T04:15:25.699Z"
   },
   {
    "duration": 3,
    "start_time": "2024-11-04T04:21:57.586Z"
   },
   {
    "duration": 3,
    "start_time": "2024-11-04T04:21:57.980Z"
   },
   {
    "duration": 3,
    "start_time": "2024-11-04T04:23:49.058Z"
   },
   {
    "duration": 6,
    "start_time": "2024-11-04T04:25:59.116Z"
   },
   {
    "duration": 5,
    "start_time": "2024-11-04T04:29:46.393Z"
   }
  ],
  "kernelspec": {
   "display_name": "Python 3 (ipykernel)",
   "language": "python",
   "name": "python3"
  },
  "language_info": {
   "codemirror_mode": {
    "name": "ipython",
    "version": 3
   },
   "file_extension": ".py",
   "mimetype": "text/x-python",
   "name": "python",
   "nbconvert_exporter": "python",
   "pygments_lexer": "ipython3",
   "version": "3.9.19"
  },
  "toc": {
   "base_numbering": 1,
   "nav_menu": {},
   "number_sections": true,
   "sideBar": true,
   "skip_h1_title": true,
   "title_cell": "Table of Contents",
   "title_sidebar": "Contents",
   "toc_cell": false,
   "toc_position": {},
   "toc_section_display": true,
   "toc_window_display": false
  }
 },
 "nbformat": 4,
 "nbformat_minor": 2
}
